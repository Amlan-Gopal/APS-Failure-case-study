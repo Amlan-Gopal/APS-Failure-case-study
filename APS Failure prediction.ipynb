{
 "cells": [
  {
   "cell_type": "markdown",
   "metadata": {
    "id": "Gr5Lp0S8v39L"
   },
   "source": [
    "# APS Failure Prediction"
   ]
  },
  {
   "cell_type": "markdown",
   "metadata": {
    "id": "C7WEY8Zhl7a8"
   },
   "source": [
    "Required installtions"
   ]
  },
  {
   "cell_type": "code",
   "execution_count": 1,
   "metadata": {
    "id": "31l1Eoag9FR9"
   },
   "outputs": [],
   "source": [
    "import warnings\n",
    "warnings.filterwarnings('ignore')"
   ]
  },
  {
   "cell_type": "code",
   "execution_count": null,
   "metadata": {
    "id": "5RTVNihD9FR_",
    "outputId": "74150a13-f2ab-485c-879c-40f435eb395a"
   },
   "outputs": [
    {
     "name": "stdout",
     "output_type": "stream",
     "text": [
      "Requirement already up-to-date: xgboost in c:\\users\\hp\\appdata\\local\\programs\\python\\python36\\lib\\site-packages (1.4.1)\n",
      "Requirement already satisfied, skipping upgrade: scipy in c:\\users\\hp\\appdata\\local\\programs\\python\\python36\\lib\\site-packages (from xgboost) (1.5.4)\n",
      "Requirement already satisfied, skipping upgrade: numpy in c:\\users\\hp\\appdata\\local\\programs\\python\\python36\\lib\\site-packages (from xgboost) (1.19.5)\n"
     ]
    },
    {
     "name": "stderr",
     "output_type": "stream",
     "text": [
      "WARNING: You are using pip version 20.2.1; however, version 21.1.1 is available.\n",
      "You should consider upgrading via the 'c:\\users\\hp\\appdata\\local\\programs\\python\\python36\\python.exe -m pip install --upgrade pip' command.\n"
     ]
    }
   ],
   "source": [
    "!pip3 install --upgrade xgboost"
   ]
  },
  {
   "cell_type": "code",
   "execution_count": null,
   "metadata": {
    "colab": {
     "base_uri": "https://localhost:8080/"
    },
    "id": "gcM5YVw2l6K6",
    "outputId": "82a0d001-6625-4991-8f51-838567a4beb8"
   },
   "outputs": [
    {
     "name": "stdout",
     "output_type": "stream",
     "text": [
      "Requirement already satisfied: phik in c:\\users\\hp\\appdata\\local\\programs\\python\\python36\\lib\\site-packages (0.11.2)\n",
      "Requirement already satisfied: pandas>=0.25.1 in c:\\users\\hp\\appdata\\local\\programs\\python\\python36\\lib\\site-packages (from phik) (1.1.0)\n",
      "Requirement already satisfied: numpy>=1.18.0 in c:\\users\\hp\\appdata\\local\\programs\\python\\python36\\lib\\site-packages (from phik) (1.19.5)\n",
      "Requirement already satisfied: matplotlib>=2.2.3 in c:\\users\\hp\\appdata\\local\\programs\\python\\python36\\lib\\site-packages (from phik) (2.2.3)\n",
      "Requirement already satisfied: scipy>=1.5.2 in c:\\users\\hp\\appdata\\local\\programs\\python\\python36\\lib\\site-packages (from phik) (1.5.4)\n",
      "Requirement already satisfied: joblib>=0.14.1 in c:\\users\\hp\\appdata\\local\\programs\\python\\python36\\lib\\site-packages (from phik) (0.16.0)\n",
      "Requirement already satisfied: python-dateutil>=2.7.3 in c:\\users\\hp\\appdata\\local\\programs\\python\\python36\\lib\\site-packages (from pandas>=0.25.1->phik) (2.8.1)\n",
      "Requirement already satisfied: pytz>=2017.2 in c:\\users\\hp\\appdata\\local\\programs\\python\\python36\\lib\\site-packages (from pandas>=0.25.1->phik) (2020.1)\n",
      "Requirement already satisfied: kiwisolver>=1.0.1 in c:\\users\\hp\\appdata\\local\\programs\\python\\python36\\lib\\site-packages (from matplotlib>=2.2.3->phik) (1.2.0)\n",
      "Requirement already satisfied: cycler>=0.10 in c:\\users\\hp\\appdata\\local\\programs\\python\\python36\\lib\\site-packages (from matplotlib>=2.2.3->phik) (0.10.0)\n",
      "Requirement already satisfied: six>=1.10 in c:\\users\\hp\\appdata\\local\\programs\\python\\python36\\lib\\site-packages (from matplotlib>=2.2.3->phik) (1.15.0)\n",
      "Requirement already satisfied: pyparsing!=2.0.4,!=2.1.2,!=2.1.6,>=2.0.1 in c:\\users\\hp\\appdata\\local\\programs\\python\\python36\\lib\\site-packages (from matplotlib>=2.2.3->phik) (2.4.7)\n"
     ]
    },
    {
     "name": "stderr",
     "output_type": "stream",
     "text": [
      "WARNING: You are using pip version 20.2.1; however, version 21.1.1 is available.\n",
      "You should consider upgrading via the 'c:\\users\\hp\\appdata\\local\\programs\\python\\python36\\python.exe -m pip install --upgrade pip' command.\n"
     ]
    }
   ],
   "source": [
    "!pip3 install phik"
   ]
  },
  {
   "cell_type": "markdown",
   "metadata": {
    "id": "WfMzWOlTv39O"
   },
   "source": [
    "### Imports"
   ]
  },
  {
   "cell_type": "code",
   "execution_count": 2,
   "metadata": {
    "id": "MOdezZeUv39P"
   },
   "outputs": [],
   "source": [
    "import pandas as pd\n",
    "import numpy as np\n",
    "import csv\n",
    "import matplotlib.pyplot as plt\n",
    "import seaborn as sns\n",
    "import random\n",
    "from sklearn.impute import SimpleImputer\n",
    "from sklearn.preprocessing import StandardScaler\n",
    "from sklearn.manifold import TSNE\n",
    "import itertools\n",
    "import pickle\n",
    "from sklearn.model_selection import train_test_split\n",
    "from sklearn.model_selection import GridSearchCV\n",
    "from sklearn.model_selection import RandomizedSearchCV\n",
    "from sklearn.calibration import CalibratedClassifierCV\n",
    "from sklearn.linear_model import LogisticRegression\n",
    "from sklearn.tree import DecisionTreeClassifier\n",
    "from sklearn.svm import SVC\n",
    "from sklearn.ensemble import RandomForestClassifier\n",
    "from xgboost import XGBClassifier\n",
    "from sklearn.metrics import log_loss\n",
    "from sklearn.metrics import confusion_matrix\n",
    "from sklearn.metrics import f1_score\n",
    "import os.path\n",
    "from sklearn.utils import class_weight"
   ]
  },
  {
   "cell_type": "markdown",
   "metadata": {
    "id": "FxTXpG9sv39Q"
   },
   "source": [
    "### Extracting data from csv file"
   ]
  },
  {
   "cell_type": "markdown",
   "metadata": {
    "id": "ojAeO3_qv39Q"
   },
   "source": [
    "As the csv file contains some informations about the data before the actual dataset, we need to find the row number and starting from that row, we will extract data."
   ]
  },
  {
   "cell_type": "code",
   "execution_count": null,
   "metadata": {
    "id": "HxKH0te-v39R"
   },
   "outputs": [],
   "source": [
    "def find_index(csv_file, input_text):\n",
    "    \"\"\"This function returns the row number in a csv file as the next row index of the input text\n",
    "    \"\"\"\n",
    "    o = open(csv_file, 'r') \n",
    "    myData = csv.reader(o) \n",
    "    index = 1 \n",
    "    for row in myData:\n",
    "        if len(row) > 0 and input_text in str(row[0]): \n",
    "            return index+1 \n",
    "        else : index+=1\n",
    "start_row = find_index('aps_failure_training_set.csv', '----')"
   ]
  },
  {
   "cell_type": "markdown",
   "metadata": {
    "id": "4dDhMQWOv39S"
   },
   "source": [
    "**Create dataframe from train and test csv files**"
   ]
  },
  {
   "cell_type": "code",
   "execution_count": null,
   "metadata": {
    "colab": {
     "base_uri": "https://localhost:8080/",
     "height": 244
    },
    "id": "x4ycqJRWv39T",
    "outputId": "1d8a112f-5eb0-4b4a-b076-2c73d2c310fd"
   },
   "outputs": [
    {
     "data": {
      "text/html": [
       "<div>\n",
       "<style scoped>\n",
       "    .dataframe tbody tr th:only-of-type {\n",
       "        vertical-align: middle;\n",
       "    }\n",
       "\n",
       "    .dataframe tbody tr th {\n",
       "        vertical-align: top;\n",
       "    }\n",
       "\n",
       "    .dataframe thead th {\n",
       "        text-align: right;\n",
       "    }\n",
       "</style>\n",
       "<table border=\"1\" class=\"dataframe\">\n",
       "  <thead>\n",
       "    <tr style=\"text-align: right;\">\n",
       "      <th></th>\n",
       "      <th>class</th>\n",
       "      <th>aa_000</th>\n",
       "      <th>ab_000</th>\n",
       "      <th>ac_000</th>\n",
       "      <th>ad_000</th>\n",
       "      <th>ae_000</th>\n",
       "      <th>af_000</th>\n",
       "      <th>ag_000</th>\n",
       "      <th>ag_001</th>\n",
       "      <th>ag_002</th>\n",
       "      <th>...</th>\n",
       "      <th>ee_002</th>\n",
       "      <th>ee_003</th>\n",
       "      <th>ee_004</th>\n",
       "      <th>ee_005</th>\n",
       "      <th>ee_006</th>\n",
       "      <th>ee_007</th>\n",
       "      <th>ee_008</th>\n",
       "      <th>ee_009</th>\n",
       "      <th>ef_000</th>\n",
       "      <th>eg_000</th>\n",
       "    </tr>\n",
       "  </thead>\n",
       "  <tbody>\n",
       "    <tr>\n",
       "      <th>0</th>\n",
       "      <td>neg</td>\n",
       "      <td>76698</td>\n",
       "      <td>na</td>\n",
       "      <td>2130706438</td>\n",
       "      <td>280</td>\n",
       "      <td>0</td>\n",
       "      <td>0</td>\n",
       "      <td>0</td>\n",
       "      <td>0</td>\n",
       "      <td>0</td>\n",
       "      <td>...</td>\n",
       "      <td>1240520</td>\n",
       "      <td>493384</td>\n",
       "      <td>721044</td>\n",
       "      <td>469792</td>\n",
       "      <td>339156</td>\n",
       "      <td>157956</td>\n",
       "      <td>73224</td>\n",
       "      <td>0</td>\n",
       "      <td>0</td>\n",
       "      <td>0</td>\n",
       "    </tr>\n",
       "    <tr>\n",
       "      <th>1</th>\n",
       "      <td>neg</td>\n",
       "      <td>33058</td>\n",
       "      <td>na</td>\n",
       "      <td>0</td>\n",
       "      <td>na</td>\n",
       "      <td>0</td>\n",
       "      <td>0</td>\n",
       "      <td>0</td>\n",
       "      <td>0</td>\n",
       "      <td>0</td>\n",
       "      <td>...</td>\n",
       "      <td>421400</td>\n",
       "      <td>178064</td>\n",
       "      <td>293306</td>\n",
       "      <td>245416</td>\n",
       "      <td>133654</td>\n",
       "      <td>81140</td>\n",
       "      <td>97576</td>\n",
       "      <td>1500</td>\n",
       "      <td>0</td>\n",
       "      <td>0</td>\n",
       "    </tr>\n",
       "    <tr>\n",
       "      <th>2</th>\n",
       "      <td>neg</td>\n",
       "      <td>41040</td>\n",
       "      <td>na</td>\n",
       "      <td>228</td>\n",
       "      <td>100</td>\n",
       "      <td>0</td>\n",
       "      <td>0</td>\n",
       "      <td>0</td>\n",
       "      <td>0</td>\n",
       "      <td>0</td>\n",
       "      <td>...</td>\n",
       "      <td>277378</td>\n",
       "      <td>159812</td>\n",
       "      <td>423992</td>\n",
       "      <td>409564</td>\n",
       "      <td>320746</td>\n",
       "      <td>158022</td>\n",
       "      <td>95128</td>\n",
       "      <td>514</td>\n",
       "      <td>0</td>\n",
       "      <td>0</td>\n",
       "    </tr>\n",
       "    <tr>\n",
       "      <th>3</th>\n",
       "      <td>neg</td>\n",
       "      <td>12</td>\n",
       "      <td>0</td>\n",
       "      <td>70</td>\n",
       "      <td>66</td>\n",
       "      <td>0</td>\n",
       "      <td>10</td>\n",
       "      <td>0</td>\n",
       "      <td>0</td>\n",
       "      <td>0</td>\n",
       "      <td>...</td>\n",
       "      <td>240</td>\n",
       "      <td>46</td>\n",
       "      <td>58</td>\n",
       "      <td>44</td>\n",
       "      <td>10</td>\n",
       "      <td>0</td>\n",
       "      <td>0</td>\n",
       "      <td>0</td>\n",
       "      <td>4</td>\n",
       "      <td>32</td>\n",
       "    </tr>\n",
       "    <tr>\n",
       "      <th>4</th>\n",
       "      <td>neg</td>\n",
       "      <td>60874</td>\n",
       "      <td>na</td>\n",
       "      <td>1368</td>\n",
       "      <td>458</td>\n",
       "      <td>0</td>\n",
       "      <td>0</td>\n",
       "      <td>0</td>\n",
       "      <td>0</td>\n",
       "      <td>0</td>\n",
       "      <td>...</td>\n",
       "      <td>622012</td>\n",
       "      <td>229790</td>\n",
       "      <td>405298</td>\n",
       "      <td>347188</td>\n",
       "      <td>286954</td>\n",
       "      <td>311560</td>\n",
       "      <td>433954</td>\n",
       "      <td>1218</td>\n",
       "      <td>0</td>\n",
       "      <td>0</td>\n",
       "    </tr>\n",
       "  </tbody>\n",
       "</table>\n",
       "<p>5 rows × 171 columns</p>\n",
       "</div>"
      ],
      "text/plain": [
       "  class  aa_000 ab_000      ac_000 ad_000 ae_000 af_000 ag_000 ag_001 ag_002  \\\n",
       "0   neg   76698     na  2130706438    280      0      0      0      0      0   \n",
       "1   neg   33058     na           0     na      0      0      0      0      0   \n",
       "2   neg   41040     na         228    100      0      0      0      0      0   \n",
       "3   neg      12      0          70     66      0     10      0      0      0   \n",
       "4   neg   60874     na        1368    458      0      0      0      0      0   \n",
       "\n",
       "   ...   ee_002  ee_003  ee_004  ee_005  ee_006  ee_007  ee_008 ee_009 ef_000  \\\n",
       "0  ...  1240520  493384  721044  469792  339156  157956   73224      0      0   \n",
       "1  ...   421400  178064  293306  245416  133654   81140   97576   1500      0   \n",
       "2  ...   277378  159812  423992  409564  320746  158022   95128    514      0   \n",
       "3  ...      240      46      58      44      10       0       0      0      4   \n",
       "4  ...   622012  229790  405298  347188  286954  311560  433954   1218      0   \n",
       "\n",
       "  eg_000  \n",
       "0      0  \n",
       "1      0  \n",
       "2      0  \n",
       "3     32  \n",
       "4      0  \n",
       "\n",
       "[5 rows x 171 columns]"
      ]
     },
     "execution_count": 55,
     "metadata": {
      "tags": []
     },
     "output_type": "execute_result"
    }
   ],
   "source": [
    "train_data = pd.read_csv('aps_failure_training_set.csv', skiprows = start_row)\n",
    "train_data.head()"
   ]
  },
  {
   "cell_type": "code",
   "execution_count": null,
   "metadata": {
    "colab": {
     "base_uri": "https://localhost:8080/"
    },
    "id": "9dzXSfKAv39U",
    "outputId": "b805ba2c-872d-464a-fb2c-7ca6619a9b7a"
   },
   "outputs": [
    {
     "name": "stdout",
     "output_type": "stream",
     "text": [
      "(60000, 171)\n"
     ]
    }
   ],
   "source": [
    "print(train_data.shape)"
   ]
  },
  {
   "cell_type": "code",
   "execution_count": null,
   "metadata": {
    "colab": {
     "base_uri": "https://localhost:8080/",
     "height": 244
    },
    "id": "pYctF3yAv39U",
    "outputId": "aca231ae-32fa-44e9-a8d8-f36bac9c310b"
   },
   "outputs": [
    {
     "data": {
      "text/html": [
       "<div>\n",
       "<style scoped>\n",
       "    .dataframe tbody tr th:only-of-type {\n",
       "        vertical-align: middle;\n",
       "    }\n",
       "\n",
       "    .dataframe tbody tr th {\n",
       "        vertical-align: top;\n",
       "    }\n",
       "\n",
       "    .dataframe thead th {\n",
       "        text-align: right;\n",
       "    }\n",
       "</style>\n",
       "<table border=\"1\" class=\"dataframe\">\n",
       "  <thead>\n",
       "    <tr style=\"text-align: right;\">\n",
       "      <th></th>\n",
       "      <th>class</th>\n",
       "      <th>aa_000</th>\n",
       "      <th>ab_000</th>\n",
       "      <th>ac_000</th>\n",
       "      <th>ad_000</th>\n",
       "      <th>ae_000</th>\n",
       "      <th>af_000</th>\n",
       "      <th>ag_000</th>\n",
       "      <th>ag_001</th>\n",
       "      <th>ag_002</th>\n",
       "      <th>...</th>\n",
       "      <th>ee_002</th>\n",
       "      <th>ee_003</th>\n",
       "      <th>ee_004</th>\n",
       "      <th>ee_005</th>\n",
       "      <th>ee_006</th>\n",
       "      <th>ee_007</th>\n",
       "      <th>ee_008</th>\n",
       "      <th>ee_009</th>\n",
       "      <th>ef_000</th>\n",
       "      <th>eg_000</th>\n",
       "    </tr>\n",
       "  </thead>\n",
       "  <tbody>\n",
       "    <tr>\n",
       "      <th>0</th>\n",
       "      <td>neg</td>\n",
       "      <td>60</td>\n",
       "      <td>0</td>\n",
       "      <td>20</td>\n",
       "      <td>12</td>\n",
       "      <td>0</td>\n",
       "      <td>0</td>\n",
       "      <td>0</td>\n",
       "      <td>0</td>\n",
       "      <td>0</td>\n",
       "      <td>...</td>\n",
       "      <td>1098</td>\n",
       "      <td>138</td>\n",
       "      <td>412</td>\n",
       "      <td>654</td>\n",
       "      <td>78</td>\n",
       "      <td>88</td>\n",
       "      <td>0</td>\n",
       "      <td>0</td>\n",
       "      <td>0</td>\n",
       "      <td>0</td>\n",
       "    </tr>\n",
       "    <tr>\n",
       "      <th>1</th>\n",
       "      <td>neg</td>\n",
       "      <td>82</td>\n",
       "      <td>0</td>\n",
       "      <td>68</td>\n",
       "      <td>40</td>\n",
       "      <td>0</td>\n",
       "      <td>0</td>\n",
       "      <td>0</td>\n",
       "      <td>0</td>\n",
       "      <td>0</td>\n",
       "      <td>...</td>\n",
       "      <td>1068</td>\n",
       "      <td>276</td>\n",
       "      <td>1620</td>\n",
       "      <td>116</td>\n",
       "      <td>86</td>\n",
       "      <td>462</td>\n",
       "      <td>0</td>\n",
       "      <td>0</td>\n",
       "      <td>0</td>\n",
       "      <td>0</td>\n",
       "    </tr>\n",
       "    <tr>\n",
       "      <th>2</th>\n",
       "      <td>neg</td>\n",
       "      <td>66002</td>\n",
       "      <td>2</td>\n",
       "      <td>212</td>\n",
       "      <td>112</td>\n",
       "      <td>0</td>\n",
       "      <td>0</td>\n",
       "      <td>0</td>\n",
       "      <td>0</td>\n",
       "      <td>0</td>\n",
       "      <td>...</td>\n",
       "      <td>495076</td>\n",
       "      <td>380368</td>\n",
       "      <td>440134</td>\n",
       "      <td>269556</td>\n",
       "      <td>1315022</td>\n",
       "      <td>153680</td>\n",
       "      <td>516</td>\n",
       "      <td>0</td>\n",
       "      <td>0</td>\n",
       "      <td>0</td>\n",
       "    </tr>\n",
       "    <tr>\n",
       "      <th>3</th>\n",
       "      <td>neg</td>\n",
       "      <td>59816</td>\n",
       "      <td>na</td>\n",
       "      <td>1010</td>\n",
       "      <td>936</td>\n",
       "      <td>0</td>\n",
       "      <td>0</td>\n",
       "      <td>0</td>\n",
       "      <td>0</td>\n",
       "      <td>0</td>\n",
       "      <td>...</td>\n",
       "      <td>540820</td>\n",
       "      <td>243270</td>\n",
       "      <td>483302</td>\n",
       "      <td>485332</td>\n",
       "      <td>431376</td>\n",
       "      <td>210074</td>\n",
       "      <td>281662</td>\n",
       "      <td>3232</td>\n",
       "      <td>0</td>\n",
       "      <td>0</td>\n",
       "    </tr>\n",
       "    <tr>\n",
       "      <th>4</th>\n",
       "      <td>neg</td>\n",
       "      <td>1814</td>\n",
       "      <td>na</td>\n",
       "      <td>156</td>\n",
       "      <td>140</td>\n",
       "      <td>0</td>\n",
       "      <td>0</td>\n",
       "      <td>0</td>\n",
       "      <td>0</td>\n",
       "      <td>0</td>\n",
       "      <td>...</td>\n",
       "      <td>7646</td>\n",
       "      <td>4144</td>\n",
       "      <td>18466</td>\n",
       "      <td>49782</td>\n",
       "      <td>3176</td>\n",
       "      <td>482</td>\n",
       "      <td>76</td>\n",
       "      <td>0</td>\n",
       "      <td>0</td>\n",
       "      <td>0</td>\n",
       "    </tr>\n",
       "  </tbody>\n",
       "</table>\n",
       "<p>5 rows × 171 columns</p>\n",
       "</div>"
      ],
      "text/plain": [
       "  class  aa_000 ab_000 ac_000 ad_000 ae_000 af_000 ag_000 ag_001 ag_002  ...  \\\n",
       "0   neg      60      0     20     12      0      0      0      0      0  ...   \n",
       "1   neg      82      0     68     40      0      0      0      0      0  ...   \n",
       "2   neg   66002      2    212    112      0      0      0      0      0  ...   \n",
       "3   neg   59816     na   1010    936      0      0      0      0      0  ...   \n",
       "4   neg    1814     na    156    140      0      0      0      0      0  ...   \n",
       "\n",
       "   ee_002  ee_003  ee_004  ee_005   ee_006  ee_007  ee_008 ee_009 ef_000  \\\n",
       "0    1098     138     412     654       78      88       0      0      0   \n",
       "1    1068     276    1620     116       86     462       0      0      0   \n",
       "2  495076  380368  440134  269556  1315022  153680     516      0      0   \n",
       "3  540820  243270  483302  485332   431376  210074  281662   3232      0   \n",
       "4    7646    4144   18466   49782     3176     482      76      0      0   \n",
       "\n",
       "  eg_000  \n",
       "0      0  \n",
       "1      0  \n",
       "2      0  \n",
       "3      0  \n",
       "4      0  \n",
       "\n",
       "[5 rows x 171 columns]"
      ]
     },
     "execution_count": 57,
     "metadata": {
      "tags": []
     },
     "output_type": "execute_result"
    }
   ],
   "source": [
    "test_data = pd.read_csv('aps_failure_test_set.csv', skiprows = start_row)\n",
    "test_data.head()"
   ]
  },
  {
   "cell_type": "code",
   "execution_count": null,
   "metadata": {
    "colab": {
     "base_uri": "https://localhost:8080/"
    },
    "id": "Q26DjamFv39V",
    "outputId": "5cc6ace1-d57c-4030-e0cf-5f78b4610a41"
   },
   "outputs": [
    {
     "name": "stdout",
     "output_type": "stream",
     "text": [
      "(16000, 171)\n"
     ]
    }
   ],
   "source": [
    "print(test_data.shape)"
   ]
  },
  {
   "cell_type": "markdown",
   "metadata": {
    "id": "UUh4H7Ijv39V"
   },
   "source": [
    "### Convert string categorical data to numeric"
   ]
  },
  {
   "cell_type": "code",
   "execution_count": null,
   "metadata": {
    "colab": {
     "base_uri": "https://localhost:8080/"
    },
    "id": "74HSvXikv39W",
    "outputId": "2883be3a-6a52-4f1e-d75c-30446f7b8ba7"
   },
   "outputs": [
    {
     "data": {
      "text/plain": [
       "0    59000\n",
       "1     1000\n",
       "Name: class, dtype: int64"
      ]
     },
     "execution_count": 59,
     "metadata": {
      "tags": []
     },
     "output_type": "execute_result"
    }
   ],
   "source": [
    "train_data.loc[train_data['class'] == 'neg', 'class'] = 0\n",
    "train_data.loc[train_data['class'] == 'pos', 'class'] = 1\n",
    "\n",
    "train_data['class'].value_counts()"
   ]
  },
  {
   "cell_type": "code",
   "execution_count": null,
   "metadata": {
    "colab": {
     "base_uri": "https://localhost:8080/",
     "height": 349
    },
    "id": "JPbeUh3_hteK",
    "outputId": "7abbc8ea-ca7f-4572-ea80-70d6157e976a"
   },
   "outputs": [
    {
     "data": {
      "image/png": "[encoded data removed]",
      "text/plain": [
       "<Figure size 432x288 with 1 Axes>"
      ]
     },
     "metadata": {
      "tags": []
     },
     "output_type": "display_data"
    }
   ],
   "source": [
    "# Class label distribution in train set\n",
    "sns.barplot(train_data['class'].unique(),train_data['class'].value_counts())\n",
    "plt.title('Class Label Distribution')\n",
    "plt.xlabel('Class Label')\n",
    "plt.ylabel('Count')\n",
    "plt.show()"
   ]
  },
  {
   "cell_type": "code",
   "execution_count": null,
   "metadata": {
    "colab": {
     "base_uri": "https://localhost:8080/"
    },
    "id": "rN_3KP5iv39W",
    "outputId": "f4e183dd-f8ff-4bdc-d095-dfcb7109642f"
   },
   "outputs": [
    {
     "data": {
      "text/plain": [
       "0    15625\n",
       "1      375\n",
       "Name: class, dtype: int64"
      ]
     },
     "execution_count": 61,
     "metadata": {
      "tags": []
     },
     "output_type": "execute_result"
    }
   ],
   "source": [
    "test_data.loc[test_data['class'] == 'neg', 'class'] = 0\n",
    "test_data.loc[test_data['class'] == 'pos', 'class'] = 1\n",
    "\n",
    "test_data['class'].value_counts()"
   ]
  },
  {
   "cell_type": "code",
   "execution_count": null,
   "metadata": {
    "colab": {
     "base_uri": "https://localhost:8080/",
     "height": 349
    },
    "id": "KKJHwbWgh8ls",
    "outputId": "9eb40844-45d8-493c-be8b-b93fd192059d"
   },
   "outputs": [
    {
     "data": {
      "image/png": "[encoded data removed]",
      "text/plain": [
       "<Figure size 432x288 with 1 Axes>"
      ]
     },
     "metadata": {
      "tags": []
     },
     "output_type": "display_data"
    }
   ],
   "source": [
    "# Class label distribution in train set\n",
    "sns.barplot(test_data['class'].unique(),test_data['class'].value_counts())\n",
    "plt.title('Class Label Distribution')\n",
    "plt.xlabel('Class Label')\n",
    "plt.ylabel('Count')\n",
    "plt.show()"
   ]
  },
  {
   "cell_type": "markdown",
   "metadata": {
    "id": "26isdeIov39X"
   },
   "source": [
    "From the above counts of class labels, we can see the datasets are an imbalanced datasets."
   ]
  },
  {
   "cell_type": "markdown",
   "metadata": {
    "id": "hkQHBbM31Mr5"
   },
   "source": [
    "## Handling NaN values"
   ]
  },
  {
   "cell_type": "markdown",
   "metadata": {
    "id": "YC7gwhF6v39X"
   },
   "source": [
    "### Converting 'na' to NaN"
   ]
  },
  {
   "cell_type": "markdown",
   "metadata": {
    "id": "T9p-I3g4v39Y"
   },
   "source": [
    "As the NaN are represented as strings ('na'), we need to convert 'na' to NaN, so that we can do preprocessing on NaN elements."
   ]
  },
  {
   "cell_type": "code",
   "execution_count": null,
   "metadata": {
    "id": "umNIcGntv39Y"
   },
   "outputs": [],
   "source": [
    "train_data.replace(to_replace = 'na',\n",
    "                 value = np.NaN, inplace = True)\n",
    "test_data.replace(to_replace = 'na',\n",
    "                 value = np.NaN, inplace = True)"
   ]
  },
  {
   "cell_type": "code",
   "execution_count": null,
   "metadata": {
    "colab": {
     "base_uri": "https://localhost:8080/",
     "height": 244
    },
    "id": "YmN8TCosv39Z",
    "outputId": "7e31bfc1-cc8d-4950-a954-d06d6c079953"
   },
   "outputs": [
    {
     "data": {
      "text/html": [
       "<div>\n",
       "<style scoped>\n",
       "    .dataframe tbody tr th:only-of-type {\n",
       "        vertical-align: middle;\n",
       "    }\n",
       "\n",
       "    .dataframe tbody tr th {\n",
       "        vertical-align: top;\n",
       "    }\n",
       "\n",
       "    .dataframe thead th {\n",
       "        text-align: right;\n",
       "    }\n",
       "</style>\n",
       "<table border=\"1\" class=\"dataframe\">\n",
       "  <thead>\n",
       "    <tr style=\"text-align: right;\">\n",
       "      <th></th>\n",
       "      <th>class</th>\n",
       "      <th>aa_000</th>\n",
       "      <th>ab_000</th>\n",
       "      <th>ac_000</th>\n",
       "      <th>ad_000</th>\n",
       "      <th>ae_000</th>\n",
       "      <th>af_000</th>\n",
       "      <th>ag_000</th>\n",
       "      <th>ag_001</th>\n",
       "      <th>ag_002</th>\n",
       "      <th>...</th>\n",
       "      <th>ee_002</th>\n",
       "      <th>ee_003</th>\n",
       "      <th>ee_004</th>\n",
       "      <th>ee_005</th>\n",
       "      <th>ee_006</th>\n",
       "      <th>ee_007</th>\n",
       "      <th>ee_008</th>\n",
       "      <th>ee_009</th>\n",
       "      <th>ef_000</th>\n",
       "      <th>eg_000</th>\n",
       "    </tr>\n",
       "  </thead>\n",
       "  <tbody>\n",
       "    <tr>\n",
       "      <th>0</th>\n",
       "      <td>0</td>\n",
       "      <td>76698</td>\n",
       "      <td>NaN</td>\n",
       "      <td>2130706438</td>\n",
       "      <td>280</td>\n",
       "      <td>0</td>\n",
       "      <td>0</td>\n",
       "      <td>0</td>\n",
       "      <td>0</td>\n",
       "      <td>0</td>\n",
       "      <td>...</td>\n",
       "      <td>1240520</td>\n",
       "      <td>493384</td>\n",
       "      <td>721044</td>\n",
       "      <td>469792</td>\n",
       "      <td>339156</td>\n",
       "      <td>157956</td>\n",
       "      <td>73224</td>\n",
       "      <td>0</td>\n",
       "      <td>0</td>\n",
       "      <td>0</td>\n",
       "    </tr>\n",
       "    <tr>\n",
       "      <th>1</th>\n",
       "      <td>0</td>\n",
       "      <td>33058</td>\n",
       "      <td>NaN</td>\n",
       "      <td>0</td>\n",
       "      <td>NaN</td>\n",
       "      <td>0</td>\n",
       "      <td>0</td>\n",
       "      <td>0</td>\n",
       "      <td>0</td>\n",
       "      <td>0</td>\n",
       "      <td>...</td>\n",
       "      <td>421400</td>\n",
       "      <td>178064</td>\n",
       "      <td>293306</td>\n",
       "      <td>245416</td>\n",
       "      <td>133654</td>\n",
       "      <td>81140</td>\n",
       "      <td>97576</td>\n",
       "      <td>1500</td>\n",
       "      <td>0</td>\n",
       "      <td>0</td>\n",
       "    </tr>\n",
       "    <tr>\n",
       "      <th>2</th>\n",
       "      <td>0</td>\n",
       "      <td>41040</td>\n",
       "      <td>NaN</td>\n",
       "      <td>228</td>\n",
       "      <td>100</td>\n",
       "      <td>0</td>\n",
       "      <td>0</td>\n",
       "      <td>0</td>\n",
       "      <td>0</td>\n",
       "      <td>0</td>\n",
       "      <td>...</td>\n",
       "      <td>277378</td>\n",
       "      <td>159812</td>\n",
       "      <td>423992</td>\n",
       "      <td>409564</td>\n",
       "      <td>320746</td>\n",
       "      <td>158022</td>\n",
       "      <td>95128</td>\n",
       "      <td>514</td>\n",
       "      <td>0</td>\n",
       "      <td>0</td>\n",
       "    </tr>\n",
       "    <tr>\n",
       "      <th>3</th>\n",
       "      <td>0</td>\n",
       "      <td>12</td>\n",
       "      <td>0</td>\n",
       "      <td>70</td>\n",
       "      <td>66</td>\n",
       "      <td>0</td>\n",
       "      <td>10</td>\n",
       "      <td>0</td>\n",
       "      <td>0</td>\n",
       "      <td>0</td>\n",
       "      <td>...</td>\n",
       "      <td>240</td>\n",
       "      <td>46</td>\n",
       "      <td>58</td>\n",
       "      <td>44</td>\n",
       "      <td>10</td>\n",
       "      <td>0</td>\n",
       "      <td>0</td>\n",
       "      <td>0</td>\n",
       "      <td>4</td>\n",
       "      <td>32</td>\n",
       "    </tr>\n",
       "    <tr>\n",
       "      <th>4</th>\n",
       "      <td>0</td>\n",
       "      <td>60874</td>\n",
       "      <td>NaN</td>\n",
       "      <td>1368</td>\n",
       "      <td>458</td>\n",
       "      <td>0</td>\n",
       "      <td>0</td>\n",
       "      <td>0</td>\n",
       "      <td>0</td>\n",
       "      <td>0</td>\n",
       "      <td>...</td>\n",
       "      <td>622012</td>\n",
       "      <td>229790</td>\n",
       "      <td>405298</td>\n",
       "      <td>347188</td>\n",
       "      <td>286954</td>\n",
       "      <td>311560</td>\n",
       "      <td>433954</td>\n",
       "      <td>1218</td>\n",
       "      <td>0</td>\n",
       "      <td>0</td>\n",
       "    </tr>\n",
       "  </tbody>\n",
       "</table>\n",
       "<p>5 rows × 171 columns</p>\n",
       "</div>"
      ],
      "text/plain": [
       "   class  aa_000 ab_000      ac_000 ad_000 ae_000 af_000 ag_000 ag_001 ag_002  \\\n",
       "0      0   76698    NaN  2130706438    280      0      0      0      0      0   \n",
       "1      0   33058    NaN           0    NaN      0      0      0      0      0   \n",
       "2      0   41040    NaN         228    100      0      0      0      0      0   \n",
       "3      0      12      0          70     66      0     10      0      0      0   \n",
       "4      0   60874    NaN        1368    458      0      0      0      0      0   \n",
       "\n",
       "   ...   ee_002  ee_003  ee_004  ee_005  ee_006  ee_007  ee_008 ee_009 ef_000  \\\n",
       "0  ...  1240520  493384  721044  469792  339156  157956   73224      0      0   \n",
       "1  ...   421400  178064  293306  245416  133654   81140   97576   1500      0   \n",
       "2  ...   277378  159812  423992  409564  320746  158022   95128    514      0   \n",
       "3  ...      240      46      58      44      10       0       0      0      4   \n",
       "4  ...   622012  229790  405298  347188  286954  311560  433954   1218      0   \n",
       "\n",
       "  eg_000  \n",
       "0      0  \n",
       "1      0  \n",
       "2      0  \n",
       "3     32  \n",
       "4      0  \n",
       "\n",
       "[5 rows x 171 columns]"
      ]
     },
     "execution_count": 64,
     "metadata": {
      "tags": []
     },
     "output_type": "execute_result"
    }
   ],
   "source": [
    "train_data.head()"
   ]
  },
  {
   "cell_type": "code",
   "execution_count": null,
   "metadata": {
    "colab": {
     "base_uri": "https://localhost:8080/",
     "height": 244
    },
    "id": "sHbYb2O1v39Z",
    "outputId": "ea07dad0-6f2a-4210-e134-80a7af854bdd"
   },
   "outputs": [
    {
     "data": {
      "text/html": [
       "<div>\n",
       "<style scoped>\n",
       "    .dataframe tbody tr th:only-of-type {\n",
       "        vertical-align: middle;\n",
       "    }\n",
       "\n",
       "    .dataframe tbody tr th {\n",
       "        vertical-align: top;\n",
       "    }\n",
       "\n",
       "    .dataframe thead th {\n",
       "        text-align: right;\n",
       "    }\n",
       "</style>\n",
       "<table border=\"1\" class=\"dataframe\">\n",
       "  <thead>\n",
       "    <tr style=\"text-align: right;\">\n",
       "      <th></th>\n",
       "      <th>class</th>\n",
       "      <th>aa_000</th>\n",
       "      <th>ab_000</th>\n",
       "      <th>ac_000</th>\n",
       "      <th>ad_000</th>\n",
       "      <th>ae_000</th>\n",
       "      <th>af_000</th>\n",
       "      <th>ag_000</th>\n",
       "      <th>ag_001</th>\n",
       "      <th>ag_002</th>\n",
       "      <th>...</th>\n",
       "      <th>ee_002</th>\n",
       "      <th>ee_003</th>\n",
       "      <th>ee_004</th>\n",
       "      <th>ee_005</th>\n",
       "      <th>ee_006</th>\n",
       "      <th>ee_007</th>\n",
       "      <th>ee_008</th>\n",
       "      <th>ee_009</th>\n",
       "      <th>ef_000</th>\n",
       "      <th>eg_000</th>\n",
       "    </tr>\n",
       "  </thead>\n",
       "  <tbody>\n",
       "    <tr>\n",
       "      <th>0</th>\n",
       "      <td>0</td>\n",
       "      <td>60</td>\n",
       "      <td>0</td>\n",
       "      <td>20</td>\n",
       "      <td>12</td>\n",
       "      <td>0</td>\n",
       "      <td>0</td>\n",
       "      <td>0</td>\n",
       "      <td>0</td>\n",
       "      <td>0</td>\n",
       "      <td>...</td>\n",
       "      <td>1098</td>\n",
       "      <td>138</td>\n",
       "      <td>412</td>\n",
       "      <td>654</td>\n",
       "      <td>78</td>\n",
       "      <td>88</td>\n",
       "      <td>0</td>\n",
       "      <td>0</td>\n",
       "      <td>0</td>\n",
       "      <td>0</td>\n",
       "    </tr>\n",
       "    <tr>\n",
       "      <th>1</th>\n",
       "      <td>0</td>\n",
       "      <td>82</td>\n",
       "      <td>0</td>\n",
       "      <td>68</td>\n",
       "      <td>40</td>\n",
       "      <td>0</td>\n",
       "      <td>0</td>\n",
       "      <td>0</td>\n",
       "      <td>0</td>\n",
       "      <td>0</td>\n",
       "      <td>...</td>\n",
       "      <td>1068</td>\n",
       "      <td>276</td>\n",
       "      <td>1620</td>\n",
       "      <td>116</td>\n",
       "      <td>86</td>\n",
       "      <td>462</td>\n",
       "      <td>0</td>\n",
       "      <td>0</td>\n",
       "      <td>0</td>\n",
       "      <td>0</td>\n",
       "    </tr>\n",
       "    <tr>\n",
       "      <th>2</th>\n",
       "      <td>0</td>\n",
       "      <td>66002</td>\n",
       "      <td>2</td>\n",
       "      <td>212</td>\n",
       "      <td>112</td>\n",
       "      <td>0</td>\n",
       "      <td>0</td>\n",
       "      <td>0</td>\n",
       "      <td>0</td>\n",
       "      <td>0</td>\n",
       "      <td>...</td>\n",
       "      <td>495076</td>\n",
       "      <td>380368</td>\n",
       "      <td>440134</td>\n",
       "      <td>269556</td>\n",
       "      <td>1315022</td>\n",
       "      <td>153680</td>\n",
       "      <td>516</td>\n",
       "      <td>0</td>\n",
       "      <td>0</td>\n",
       "      <td>0</td>\n",
       "    </tr>\n",
       "    <tr>\n",
       "      <th>3</th>\n",
       "      <td>0</td>\n",
       "      <td>59816</td>\n",
       "      <td>NaN</td>\n",
       "      <td>1010</td>\n",
       "      <td>936</td>\n",
       "      <td>0</td>\n",
       "      <td>0</td>\n",
       "      <td>0</td>\n",
       "      <td>0</td>\n",
       "      <td>0</td>\n",
       "      <td>...</td>\n",
       "      <td>540820</td>\n",
       "      <td>243270</td>\n",
       "      <td>483302</td>\n",
       "      <td>485332</td>\n",
       "      <td>431376</td>\n",
       "      <td>210074</td>\n",
       "      <td>281662</td>\n",
       "      <td>3232</td>\n",
       "      <td>0</td>\n",
       "      <td>0</td>\n",
       "    </tr>\n",
       "    <tr>\n",
       "      <th>4</th>\n",
       "      <td>0</td>\n",
       "      <td>1814</td>\n",
       "      <td>NaN</td>\n",
       "      <td>156</td>\n",
       "      <td>140</td>\n",
       "      <td>0</td>\n",
       "      <td>0</td>\n",
       "      <td>0</td>\n",
       "      <td>0</td>\n",
       "      <td>0</td>\n",
       "      <td>...</td>\n",
       "      <td>7646</td>\n",
       "      <td>4144</td>\n",
       "      <td>18466</td>\n",
       "      <td>49782</td>\n",
       "      <td>3176</td>\n",
       "      <td>482</td>\n",
       "      <td>76</td>\n",
       "      <td>0</td>\n",
       "      <td>0</td>\n",
       "      <td>0</td>\n",
       "    </tr>\n",
       "  </tbody>\n",
       "</table>\n",
       "<p>5 rows × 171 columns</p>\n",
       "</div>"
      ],
      "text/plain": [
       "   class  aa_000 ab_000 ac_000 ad_000 ae_000 af_000 ag_000 ag_001 ag_002  ...  \\\n",
       "0      0      60      0     20     12      0      0      0      0      0  ...   \n",
       "1      0      82      0     68     40      0      0      0      0      0  ...   \n",
       "2      0   66002      2    212    112      0      0      0      0      0  ...   \n",
       "3      0   59816    NaN   1010    936      0      0      0      0      0  ...   \n",
       "4      0    1814    NaN    156    140      0      0      0      0      0  ...   \n",
       "\n",
       "   ee_002  ee_003  ee_004  ee_005   ee_006  ee_007  ee_008 ee_009 ef_000  \\\n",
       "0    1098     138     412     654       78      88       0      0      0   \n",
       "1    1068     276    1620     116       86     462       0      0      0   \n",
       "2  495076  380368  440134  269556  1315022  153680     516      0      0   \n",
       "3  540820  243270  483302  485332   431376  210074  281662   3232      0   \n",
       "4    7646    4144   18466   49782     3176     482      76      0      0   \n",
       "\n",
       "  eg_000  \n",
       "0      0  \n",
       "1      0  \n",
       "2      0  \n",
       "3      0  \n",
       "4      0  \n",
       "\n",
       "[5 rows x 171 columns]"
      ]
     },
     "execution_count": 65,
     "metadata": {
      "tags": []
     },
     "output_type": "execute_result"
    }
   ],
   "source": [
    "test_data.head()"
   ]
  },
  {
   "cell_type": "code",
   "execution_count": null,
   "metadata": {
    "id": "HQERlgTi9FSV",
    "outputId": "e1bfb6ac-1361-447e-c9d6-f3060fe2d6de"
   },
   "outputs": [
    {
     "data": {
      "text/html": [
       "<div>\n",
       "<style scoped>\n",
       "    .dataframe tbody tr th:only-of-type {\n",
       "        vertical-align: middle;\n",
       "    }\n",
       "\n",
       "    .dataframe tbody tr th {\n",
       "        vertical-align: top;\n",
       "    }\n",
       "\n",
       "    .dataframe thead th {\n",
       "        text-align: right;\n",
       "    }\n",
       "</style>\n",
       "<table border=\"1\" class=\"dataframe\">\n",
       "  <thead>\n",
       "    <tr style=\"text-align: right;\">\n",
       "      <th></th>\n",
       "      <th>class</th>\n",
       "      <th>aa_000</th>\n",
       "      <th>ab_000</th>\n",
       "      <th>ac_000</th>\n",
       "      <th>ad_000</th>\n",
       "      <th>ae_000</th>\n",
       "      <th>af_000</th>\n",
       "      <th>ag_000</th>\n",
       "      <th>ag_001</th>\n",
       "      <th>ag_002</th>\n",
       "      <th>...</th>\n",
       "      <th>ee_002</th>\n",
       "      <th>ee_003</th>\n",
       "      <th>ee_004</th>\n",
       "      <th>ee_005</th>\n",
       "      <th>ee_006</th>\n",
       "      <th>ee_007</th>\n",
       "      <th>ee_008</th>\n",
       "      <th>ee_009</th>\n",
       "      <th>ef_000</th>\n",
       "      <th>eg_000</th>\n",
       "    </tr>\n",
       "  </thead>\n",
       "  <tbody>\n",
       "    <tr>\n",
       "      <th>0</th>\n",
       "      <td>0</td>\n",
       "      <td>60</td>\n",
       "      <td>0</td>\n",
       "      <td>20</td>\n",
       "      <td>12</td>\n",
       "      <td>0</td>\n",
       "      <td>0</td>\n",
       "      <td>0</td>\n",
       "      <td>0</td>\n",
       "      <td>0</td>\n",
       "      <td>...</td>\n",
       "      <td>1098</td>\n",
       "      <td>138</td>\n",
       "      <td>412</td>\n",
       "      <td>654</td>\n",
       "      <td>78</td>\n",
       "      <td>88</td>\n",
       "      <td>0</td>\n",
       "      <td>0</td>\n",
       "      <td>0</td>\n",
       "      <td>0</td>\n",
       "    </tr>\n",
       "    <tr>\n",
       "      <th>1</th>\n",
       "      <td>0</td>\n",
       "      <td>82</td>\n",
       "      <td>0</td>\n",
       "      <td>68</td>\n",
       "      <td>40</td>\n",
       "      <td>0</td>\n",
       "      <td>0</td>\n",
       "      <td>0</td>\n",
       "      <td>0</td>\n",
       "      <td>0</td>\n",
       "      <td>...</td>\n",
       "      <td>1068</td>\n",
       "      <td>276</td>\n",
       "      <td>1620</td>\n",
       "      <td>116</td>\n",
       "      <td>86</td>\n",
       "      <td>462</td>\n",
       "      <td>0</td>\n",
       "      <td>0</td>\n",
       "      <td>0</td>\n",
       "      <td>0</td>\n",
       "    </tr>\n",
       "    <tr>\n",
       "      <th>2</th>\n",
       "      <td>0</td>\n",
       "      <td>66002</td>\n",
       "      <td>2</td>\n",
       "      <td>212</td>\n",
       "      <td>112</td>\n",
       "      <td>0</td>\n",
       "      <td>0</td>\n",
       "      <td>0</td>\n",
       "      <td>0</td>\n",
       "      <td>0</td>\n",
       "      <td>...</td>\n",
       "      <td>495076</td>\n",
       "      <td>380368</td>\n",
       "      <td>440134</td>\n",
       "      <td>269556</td>\n",
       "      <td>1315022</td>\n",
       "      <td>153680</td>\n",
       "      <td>516</td>\n",
       "      <td>0</td>\n",
       "      <td>0</td>\n",
       "      <td>0</td>\n",
       "    </tr>\n",
       "    <tr>\n",
       "      <th>3</th>\n",
       "      <td>0</td>\n",
       "      <td>59816</td>\n",
       "      <td>NaN</td>\n",
       "      <td>1010</td>\n",
       "      <td>936</td>\n",
       "      <td>0</td>\n",
       "      <td>0</td>\n",
       "      <td>0</td>\n",
       "      <td>0</td>\n",
       "      <td>0</td>\n",
       "      <td>...</td>\n",
       "      <td>540820</td>\n",
       "      <td>243270</td>\n",
       "      <td>483302</td>\n",
       "      <td>485332</td>\n",
       "      <td>431376</td>\n",
       "      <td>210074</td>\n",
       "      <td>281662</td>\n",
       "      <td>3232</td>\n",
       "      <td>0</td>\n",
       "      <td>0</td>\n",
       "    </tr>\n",
       "    <tr>\n",
       "      <th>4</th>\n",
       "      <td>0</td>\n",
       "      <td>1814</td>\n",
       "      <td>NaN</td>\n",
       "      <td>156</td>\n",
       "      <td>140</td>\n",
       "      <td>0</td>\n",
       "      <td>0</td>\n",
       "      <td>0</td>\n",
       "      <td>0</td>\n",
       "      <td>0</td>\n",
       "      <td>...</td>\n",
       "      <td>7646</td>\n",
       "      <td>4144</td>\n",
       "      <td>18466</td>\n",
       "      <td>49782</td>\n",
       "      <td>3176</td>\n",
       "      <td>482</td>\n",
       "      <td>76</td>\n",
       "      <td>0</td>\n",
       "      <td>0</td>\n",
       "      <td>0</td>\n",
       "    </tr>\n",
       "    <tr>\n",
       "      <th>...</th>\n",
       "      <td>...</td>\n",
       "      <td>...</td>\n",
       "      <td>...</td>\n",
       "      <td>...</td>\n",
       "      <td>...</td>\n",
       "      <td>...</td>\n",
       "      <td>...</td>\n",
       "      <td>...</td>\n",
       "      <td>...</td>\n",
       "      <td>...</td>\n",
       "      <td>...</td>\n",
       "      <td>...</td>\n",
       "      <td>...</td>\n",
       "      <td>...</td>\n",
       "      <td>...</td>\n",
       "      <td>...</td>\n",
       "      <td>...</td>\n",
       "      <td>...</td>\n",
       "      <td>...</td>\n",
       "      <td>...</td>\n",
       "      <td>...</td>\n",
       "    </tr>\n",
       "    <tr>\n",
       "      <th>15995</th>\n",
       "      <td>0</td>\n",
       "      <td>81852</td>\n",
       "      <td>NaN</td>\n",
       "      <td>2130706432</td>\n",
       "      <td>892</td>\n",
       "      <td>0</td>\n",
       "      <td>0</td>\n",
       "      <td>0</td>\n",
       "      <td>0</td>\n",
       "      <td>0</td>\n",
       "      <td>...</td>\n",
       "      <td>632658</td>\n",
       "      <td>273242</td>\n",
       "      <td>510354</td>\n",
       "      <td>373918</td>\n",
       "      <td>349840</td>\n",
       "      <td>317840</td>\n",
       "      <td>960024</td>\n",
       "      <td>25566</td>\n",
       "      <td>0</td>\n",
       "      <td>0</td>\n",
       "    </tr>\n",
       "    <tr>\n",
       "      <th>15996</th>\n",
       "      <td>0</td>\n",
       "      <td>18</td>\n",
       "      <td>0</td>\n",
       "      <td>52</td>\n",
       "      <td>46</td>\n",
       "      <td>8</td>\n",
       "      <td>26</td>\n",
       "      <td>0</td>\n",
       "      <td>0</td>\n",
       "      <td>0</td>\n",
       "      <td>...</td>\n",
       "      <td>266</td>\n",
       "      <td>44</td>\n",
       "      <td>46</td>\n",
       "      <td>14</td>\n",
       "      <td>2</td>\n",
       "      <td>0</td>\n",
       "      <td>0</td>\n",
       "      <td>0</td>\n",
       "      <td>0</td>\n",
       "      <td>0</td>\n",
       "    </tr>\n",
       "    <tr>\n",
       "      <th>15997</th>\n",
       "      <td>0</td>\n",
       "      <td>79636</td>\n",
       "      <td>NaN</td>\n",
       "      <td>1670</td>\n",
       "      <td>1518</td>\n",
       "      <td>0</td>\n",
       "      <td>0</td>\n",
       "      <td>0</td>\n",
       "      <td>0</td>\n",
       "      <td>0</td>\n",
       "      <td>...</td>\n",
       "      <td>806832</td>\n",
       "      <td>449962</td>\n",
       "      <td>778826</td>\n",
       "      <td>581558</td>\n",
       "      <td>375498</td>\n",
       "      <td>222866</td>\n",
       "      <td>358934</td>\n",
       "      <td>19548</td>\n",
       "      <td>0</td>\n",
       "      <td>0</td>\n",
       "    </tr>\n",
       "    <tr>\n",
       "      <th>15998</th>\n",
       "      <td>0</td>\n",
       "      <td>110</td>\n",
       "      <td>NaN</td>\n",
       "      <td>36</td>\n",
       "      <td>32</td>\n",
       "      <td>0</td>\n",
       "      <td>0</td>\n",
       "      <td>0</td>\n",
       "      <td>0</td>\n",
       "      <td>0</td>\n",
       "      <td>...</td>\n",
       "      <td>588</td>\n",
       "      <td>210</td>\n",
       "      <td>180</td>\n",
       "      <td>544</td>\n",
       "      <td>1004</td>\n",
       "      <td>1338</td>\n",
       "      <td>74</td>\n",
       "      <td>0</td>\n",
       "      <td>0</td>\n",
       "      <td>0</td>\n",
       "    </tr>\n",
       "    <tr>\n",
       "      <th>15999</th>\n",
       "      <td>0</td>\n",
       "      <td>8</td>\n",
       "      <td>0</td>\n",
       "      <td>6</td>\n",
       "      <td>4</td>\n",
       "      <td>2</td>\n",
       "      <td>2</td>\n",
       "      <td>0</td>\n",
       "      <td>0</td>\n",
       "      <td>0</td>\n",
       "      <td>...</td>\n",
       "      <td>46</td>\n",
       "      <td>10</td>\n",
       "      <td>48</td>\n",
       "      <td>14</td>\n",
       "      <td>42</td>\n",
       "      <td>46</td>\n",
       "      <td>0</td>\n",
       "      <td>0</td>\n",
       "      <td>0</td>\n",
       "      <td>0</td>\n",
       "    </tr>\n",
       "  </tbody>\n",
       "</table>\n",
       "<p>16000 rows × 171 columns</p>\n",
       "</div>"
      ],
      "text/plain": [
       "       class  aa_000 ab_000      ac_000 ad_000 ae_000 af_000 ag_000 ag_001  \\\n",
       "0          0      60      0          20     12      0      0      0      0   \n",
       "1          0      82      0          68     40      0      0      0      0   \n",
       "2          0   66002      2         212    112      0      0      0      0   \n",
       "3          0   59816    NaN        1010    936      0      0      0      0   \n",
       "4          0    1814    NaN         156    140      0      0      0      0   \n",
       "...      ...     ...    ...         ...    ...    ...    ...    ...    ...   \n",
       "15995      0   81852    NaN  2130706432    892      0      0      0      0   \n",
       "15996      0      18      0          52     46      8     26      0      0   \n",
       "15997      0   79636    NaN        1670   1518      0      0      0      0   \n",
       "15998      0     110    NaN          36     32      0      0      0      0   \n",
       "15999      0       8      0           6      4      2      2      0      0   \n",
       "\n",
       "      ag_002  ...  ee_002  ee_003  ee_004  ee_005   ee_006  ee_007  ee_008  \\\n",
       "0          0  ...    1098     138     412     654       78      88       0   \n",
       "1          0  ...    1068     276    1620     116       86     462       0   \n",
       "2          0  ...  495076  380368  440134  269556  1315022  153680     516   \n",
       "3          0  ...  540820  243270  483302  485332   431376  210074  281662   \n",
       "4          0  ...    7646    4144   18466   49782     3176     482      76   \n",
       "...      ...  ...     ...     ...     ...     ...      ...     ...     ...   \n",
       "15995      0  ...  632658  273242  510354  373918   349840  317840  960024   \n",
       "15996      0  ...     266      44      46      14        2       0       0   \n",
       "15997      0  ...  806832  449962  778826  581558   375498  222866  358934   \n",
       "15998      0  ...     588     210     180     544     1004    1338      74   \n",
       "15999      0  ...      46      10      48      14       42      46       0   \n",
       "\n",
       "      ee_009 ef_000 eg_000  \n",
       "0          0      0      0  \n",
       "1          0      0      0  \n",
       "2          0      0      0  \n",
       "3       3232      0      0  \n",
       "4          0      0      0  \n",
       "...      ...    ...    ...  \n",
       "15995  25566      0      0  \n",
       "15996      0      0      0  \n",
       "15997  19548      0      0  \n",
       "15998      0      0      0  \n",
       "15999      0      0      0  \n",
       "\n",
       "[16000 rows x 171 columns]"
      ]
     },
     "execution_count": 66,
     "metadata": {
      "tags": []
     },
     "output_type": "execute_result"
    }
   ],
   "source": [
    "test_data"
   ]
  },
  {
   "cell_type": "markdown",
   "metadata": {
    "id": "I2ES2KiNv39a"
   },
   "source": [
    "### Checking NaN values in columns"
   ]
  },
  {
   "cell_type": "markdown",
   "metadata": {
    "id": "IV18ghiBv39a"
   },
   "source": [
    "**Checking NaN values for columns in train set**"
   ]
  },
  {
   "cell_type": "code",
   "execution_count": null,
   "metadata": {
    "colab": {
     "base_uri": "https://localhost:8080/"
    },
    "id": "iiesCPvBv39b",
    "outputId": "4a4efb13-3c30-473d-99b7-26d4f11528f0"
   },
   "outputs": [
    {
     "data": {
      "text/plain": [
       "(171,)"
      ]
     },
     "execution_count": 67,
     "metadata": {
      "tags": []
     },
     "output_type": "execute_result"
    }
   ],
   "source": [
    "nan_percentage_train_col = train_data.isna().sum().values / train_data.shape[0]\n",
    "nan_percentage_train_col = np.round(nan_percentage_train_col,2) * 100\n",
    "nan_percentage_train_col = nan_percentage_train_col.astype('int64')\n",
    "nan_percentage_train_col.shape"
   ]
  },
  {
   "cell_type": "code",
   "execution_count": null,
   "metadata": {
    "id": "qJkdSiXaiCie"
   },
   "outputs": [],
   "source": [
    "# Create dict using column names and NaN percentage values and sort it\n",
    "nan_percentage_train_col_dict = dict(zip(train_data.columns, nan_percentage_train_col))\n",
    "nan_percentage_train_col_dict = {k: v for k, v in sorted(nan_percentage_train_col_dict.items(), key=lambda item: item[1],reverse=True)}"
   ]
  },
  {
   "cell_type": "code",
   "execution_count": null,
   "metadata": {
    "colab": {
     "base_uri": "https://localhost:8080/",
     "height": 574
    },
    "id": "ar2K-XlFiyMX",
    "outputId": "5b3328a1-7bcd-4aa4-e657-ef9b72204117"
   },
   "outputs": [
    {
     "data": {
      "image/png": "[encoded data removed]",
      "text/plain": [
       "<Figure size 1440x720 with 1 Axes>"
      ]
     },
     "metadata": {
      "tags": []
     },
     "output_type": "display_data"
    }
   ],
   "source": [
    "# Filtering out columns with less nan values for future use\n",
    "sns.set_style(style=\"whitegrid\")\n",
    "plt.figure(figsize=(20,10))\n",
    "plot = sns.barplot(x= list(nan_percentage_train_col_dict.keys())[:30],y = list(nan_percentage_train_col_dict.values())[:30],palette=\"hls\")\n",
    "plt.show()"
   ]
  },
  {
   "cell_type": "markdown",
   "metadata": {
    "id": "D0VxOIJEllDK"
   },
   "source": [
    "Except 1st 10 columns as shown in above plot, rest all the columns has NaN values less than 30%. The columns with less NaN values can be more useful than others."
   ]
  },
  {
   "cell_type": "code",
   "execution_count": null,
   "metadata": {
    "colab": {
     "base_uri": "https://localhost:8080/",
     "height": 428
    },
    "id": "K3cyDvSHv39b",
    "outputId": "70a0f58f-f25e-4148-dd14-ee021d4b11dd"
   },
   "outputs": [
    {
     "data": {
      "image/png": "[encoded data removed]",
      "text/plain": [
       "<Figure size 720x504 with 1 Axes>"
      ]
     },
     "metadata": {
      "tags": []
     },
     "output_type": "display_data"
    }
   ],
   "source": [
    "fig, ax = plt.subplots(figsize =(10, 7))\n",
    "ax.hist(nan_percentage_train_col, bins = [0, 10, 20, 30, 40, 50, 60, 70, 80, 90, 100])\n",
    "plt.show()"
   ]
  },
  {
   "cell_type": "markdown",
   "metadata": {
    "id": "6b0B9p7zv39c"
   },
   "source": [
    "We can see, there are 7 columns each having more 70% NaN values. So we can remove the columns having 70% or more NaN values. "
   ]
  },
  {
   "cell_type": "markdown",
   "metadata": {
    "id": "lgnKEyPhv39g"
   },
   "source": [
    "### Checking NaN values in rows"
   ]
  },
  {
   "cell_type": "markdown",
   "metadata": {
    "id": "6KYrtEnyyRqx"
   },
   "source": [
    "**Checking NaN values for rows in train set**"
   ]
  },
  {
   "cell_type": "code",
   "execution_count": null,
   "metadata": {
    "colab": {
     "base_uri": "https://localhost:8080/"
    },
    "id": "cdBAKYrvv39g",
    "outputId": "6f30cfab-f55a-42ef-f4dd-ff02cad933b2"
   },
   "outputs": [
    {
     "data": {
      "text/plain": [
       "(60000,)"
      ]
     },
     "execution_count": 71,
     "metadata": {
      "tags": []
     },
     "output_type": "execute_result"
    }
   ],
   "source": [
    "nan_percentage_train_row = train_data.isna().sum(axis=1).values / train_data.shape[1]\n",
    "nan_percentage_train_row = np.round(nan_percentage_train_row,2) * 100\n",
    "nan_percentage_train_row = nan_percentage_train_row.astype('int64')\n",
    "nan_percentage_train_row.shape"
   ]
  },
  {
   "cell_type": "code",
   "execution_count": null,
   "metadata": {
    "colab": {
     "base_uri": "https://localhost:8080/",
     "height": 428
    },
    "id": "uLATZYPQv39h",
    "outputId": "54aa7a10-7387-4b99-b41d-96a54e6350ae"
   },
   "outputs": [
    {
     "data": {
      "image/png": "[encoded data removed]",
      "text/plain": [
       "<Figure size 720x504 with 1 Axes>"
      ]
     },
     "metadata": {
      "tags": []
     },
     "output_type": "display_data"
    }
   ],
   "source": [
    "fig, ax = plt.subplots(figsize =(10, 7))\n",
    "ax.hist(nan_percentage_train_row, bins = [0, 10, 20, 30, 40, 50, 60, 70, 80, 90, 100])\n",
    "plt.show()"
   ]
  },
  {
   "cell_type": "markdown",
   "metadata": {
    "id": "8FR_j-BGv39h"
   },
   "source": [
    "We can see there can be few data points having 90-100 percentage of NaN values in train set. "
   ]
  },
  {
   "cell_type": "markdown",
   "metadata": {
    "id": "9TjKHoN51K3A"
   },
   "source": [
    "## Data Preprocessing"
   ]
  },
  {
   "cell_type": "code",
   "execution_count": null,
   "metadata": {
    "id": "L_PTBRVJYJeh"
   },
   "outputs": [],
   "source": [
    "columns = train_data.columns[1:]"
   ]
  },
  {
   "cell_type": "markdown",
   "metadata": {
    "id": "eKQHdGLK09Kx"
   },
   "source": [
    "### Replce NaN values (Imputation) and standardize data"
   ]
  },
  {
   "cell_type": "code",
   "execution_count": null,
   "metadata": {
    "colab": {
     "base_uri": "https://localhost:8080/"
    },
    "id": "o_Lr_rdIoyfD",
    "outputId": "b986d29d-1c05-4d4b-a482-0fc8c7c6e551"
   },
   "outputs": [
    {
     "name": "stdout",
     "output_type": "stream",
     "text": [
      "Number of NaN after imputation 0\n"
     ]
    }
   ],
   "source": [
    "# For class 1 data point\n",
    "imp = SimpleImputer(missing_values=np.nan, strategy='median')\n",
    "X_train = imp.fit_transform(train_data.iloc[:, 1:])\n",
    "X_test = imp.transform(test_data.iloc[:, 1:])\n",
    "pickle.dump(imp, open('imputer.pkl', 'wb'))\n",
    "\n",
    "print(\"Number of NaN after imputation\", np.count_nonzero(np.isnan(X_train)))"
   ]
  },
  {
   "cell_type": "markdown",
   "metadata": {
    "id": "k07q3c2T-FjX"
   },
   "source": [
    "standardizing data for better EDA and modeling"
   ]
  },
  {
   "cell_type": "code",
   "execution_count": null,
   "metadata": {
    "id": "DXxWI7mM-E7e"
   },
   "outputs": [],
   "source": [
    "scaler = StandardScaler()\n",
    "X_train = scaler.fit_transform(X_train)\n",
    "X_test = scaler.transform(X_test)\n",
    "pickle.dump(scaler, open('scaler.pkl', 'wb'))"
   ]
  },
  {
   "cell_type": "code",
   "execution_count": null,
   "metadata": {
    "id": "circ--Ps9FSi"
   },
   "outputs": [],
   "source": [
    "y_train = train_data.iloc[:, 0]\n",
    "y_test = test_data.iloc[:, 0]"
   ]
  },
  {
   "cell_type": "code",
   "execution_count": null,
   "metadata": {
    "id": "23PcFwqWqTUg"
   },
   "outputs": [],
   "source": [
    "train_data = pd.DataFrame(data = X_train, columns= columns)\n",
    "test_data = pd.DataFrame(data = X_test, columns= columns)\n",
    "train_data['class'] = y_train\n",
    "test_data['class'] = y_test"
   ]
  },
  {
   "cell_type": "markdown",
   "metadata": {
    "id": "PbSb9p6cIKIP"
   },
   "source": [
    "**Remove columns which have same values for all rows**"
   ]
  },
  {
   "cell_type": "code",
   "execution_count": null,
   "metadata": {
    "colab": {
     "base_uri": "https://localhost:8080/"
    },
    "id": "4MK1bsmaHBVl",
    "outputId": "e79f1541-3afa-4872-be15-a7765cb31ec2"
   },
   "outputs": [
    {
     "name": "stdout",
     "output_type": "stream",
     "text": [
      "['cd_000']\n",
      "['cd_000']\n"
     ]
    }
   ],
   "source": [
    "const_col = list(train_data.columns[train_data.nunique() <= 1])\n",
    "print(const_col)\n",
    "const_col = list(test_data.columns[test_data.nunique() <= 1])\n",
    "print(const_col)"
   ]
  },
  {
   "cell_type": "markdown",
   "metadata": {
    "id": "dqi-d_e0IONH"
   },
   "source": [
    "For both train and test data, 'cd_000' column has constant value. So we can drop that column."
   ]
  },
  {
   "cell_type": "code",
   "execution_count": null,
   "metadata": {
    "id": "hLzDU8159FSk",
    "outputId": "47be0020-bc01-4da0-d931-afc0f685098b"
   },
   "outputs": [
    {
     "name": "stdout",
     "output_type": "stream",
     "text": [
      "89\n"
     ]
    }
   ],
   "source": [
    "print(train_data.columns.get_loc(\"cd_000\"))"
   ]
  },
  {
   "cell_type": "code",
   "execution_count": null,
   "metadata": {
    "colab": {
     "base_uri": "https://localhost:8080/"
    },
    "id": "2VeUbrgvIaDd",
    "outputId": "4c2e6582-0d14-4c6a-8655-2e66cfdaf315"
   },
   "outputs": [
    {
     "name": "stdout",
     "output_type": "stream",
     "text": [
      "After dropping column in train set shape:  (60000, 170)\n",
      "After dropping column in test set shape:  (60000, 170)\n"
     ]
    }
   ],
   "source": [
    "train_data.drop(const_col, axis=1, inplace = True)\n",
    "test_data.drop(const_col, axis=1, inplace = True)\n",
    "\n",
    "print(\"After dropping column in train set shape: \", train_data.shape)\n",
    "print(\"After dropping column in test set shape: \", train_data.shape)"
   ]
  },
  {
   "cell_type": "code",
   "execution_count": null,
   "metadata": {
    "colab": {
     "base_uri": "https://localhost:8080/",
     "height": 244
    },
    "id": "lV9Xz5fJqZZS",
    "outputId": "36cbf359-63e5-49c5-8334-85e449a85a90"
   },
   "outputs": [
    {
     "data": {
      "text/html": [
       "<div>\n",
       "<style scoped>\n",
       "    .dataframe tbody tr th:only-of-type {\n",
       "        vertical-align: middle;\n",
       "    }\n",
       "\n",
       "    .dataframe tbody tr th {\n",
       "        vertical-align: top;\n",
       "    }\n",
       "\n",
       "    .dataframe thead th {\n",
       "        text-align: right;\n",
       "    }\n",
       "</style>\n",
       "<table border=\"1\" class=\"dataframe\">\n",
       "  <thead>\n",
       "    <tr style=\"text-align: right;\">\n",
       "      <th></th>\n",
       "      <th>aa_000</th>\n",
       "      <th>ab_000</th>\n",
       "      <th>ac_000</th>\n",
       "      <th>ad_000</th>\n",
       "      <th>ae_000</th>\n",
       "      <th>af_000</th>\n",
       "      <th>ag_000</th>\n",
       "      <th>ag_001</th>\n",
       "      <th>ag_002</th>\n",
       "      <th>ag_003</th>\n",
       "      <th>...</th>\n",
       "      <th>ee_003</th>\n",
       "      <th>ee_004</th>\n",
       "      <th>ee_005</th>\n",
       "      <th>ee_006</th>\n",
       "      <th>ee_007</th>\n",
       "      <th>ee_008</th>\n",
       "      <th>ee_009</th>\n",
       "      <th>ef_000</th>\n",
       "      <th>eg_000</th>\n",
       "      <th>class</th>\n",
       "    </tr>\n",
       "  </thead>\n",
       "  <tbody>\n",
       "    <tr>\n",
       "      <th>0</th>\n",
       "      <td>0.119381</td>\n",
       "      <td>-0.096307</td>\n",
       "      <td>2.310224</td>\n",
       "      <td>-0.004085</td>\n",
       "      <td>-0.041322</td>\n",
       "      <td>-0.051358</td>\n",
       "      <td>-0.010762</td>\n",
       "      <td>-0.02837</td>\n",
       "      <td>-0.056929</td>\n",
       "      <td>-0.115643</td>\n",
       "      <td>...</td>\n",
       "      <td>0.524393</td>\n",
       "      <td>0.239087</td>\n",
       "      <td>0.070072</td>\n",
       "      <td>0.008264</td>\n",
       "      <td>-0.107586</td>\n",
       "      <td>-0.143103</td>\n",
       "      <td>-0.175699</td>\n",
       "      <td>-0.020257</td>\n",
       "      <td>-0.023540</td>\n",
       "      <td>0</td>\n",
       "    </tr>\n",
       "    <tr>\n",
       "      <th>1</th>\n",
       "      <td>-0.180697</td>\n",
       "      <td>-0.096307</td>\n",
       "      <td>-0.432859</td>\n",
       "      <td>-0.004089</td>\n",
       "      <td>-0.041322</td>\n",
       "      <td>-0.051358</td>\n",
       "      <td>-0.010762</td>\n",
       "      <td>-0.02837</td>\n",
       "      <td>-0.056929</td>\n",
       "      <td>-0.115643</td>\n",
       "      <td>...</td>\n",
       "      <td>-0.059135</td>\n",
       "      <td>-0.129021</td>\n",
       "      <td>-0.131171</td>\n",
       "      <td>-0.184975</td>\n",
       "      <td>-0.152281</td>\n",
       "      <td>-0.088650</td>\n",
       "      <td>-0.143927</td>\n",
       "      <td>-0.020257</td>\n",
       "      <td>-0.023540</td>\n",
       "      <td>0</td>\n",
       "    </tr>\n",
       "    <tr>\n",
       "      <th>2</th>\n",
       "      <td>-0.125811</td>\n",
       "      <td>-0.096307</td>\n",
       "      <td>-0.432859</td>\n",
       "      <td>-0.004090</td>\n",
       "      <td>-0.041322</td>\n",
       "      <td>-0.051358</td>\n",
       "      <td>-0.010762</td>\n",
       "      <td>-0.02837</td>\n",
       "      <td>-0.056929</td>\n",
       "      <td>-0.115643</td>\n",
       "      <td>...</td>\n",
       "      <td>-0.092912</td>\n",
       "      <td>-0.016553</td>\n",
       "      <td>0.016053</td>\n",
       "      <td>-0.009047</td>\n",
       "      <td>-0.107547</td>\n",
       "      <td>-0.094124</td>\n",
       "      <td>-0.164812</td>\n",
       "      <td>-0.020257</td>\n",
       "      <td>-0.023540</td>\n",
       "      <td>0</td>\n",
       "    </tr>\n",
       "    <tr>\n",
       "      <th>3</th>\n",
       "      <td>-0.407928</td>\n",
       "      <td>-0.096307</td>\n",
       "      <td>-0.432859</td>\n",
       "      <td>-0.004091</td>\n",
       "      <td>-0.041322</td>\n",
       "      <td>-0.002669</td>\n",
       "      <td>-0.010762</td>\n",
       "      <td>-0.02837</td>\n",
       "      <td>-0.056929</td>\n",
       "      <td>-0.115223</td>\n",
       "      <td>...</td>\n",
       "      <td>-0.388574</td>\n",
       "      <td>-0.381387</td>\n",
       "      <td>-0.351244</td>\n",
       "      <td>-0.310645</td>\n",
       "      <td>-0.199493</td>\n",
       "      <td>-0.306838</td>\n",
       "      <td>-0.175699</td>\n",
       "      <td>0.916833</td>\n",
       "      <td>3.685328</td>\n",
       "      <td>0</td>\n",
       "    </tr>\n",
       "    <tr>\n",
       "      <th>4</th>\n",
       "      <td>0.010572</td>\n",
       "      <td>-0.096307</td>\n",
       "      <td>-0.432857</td>\n",
       "      <td>-0.004080</td>\n",
       "      <td>-0.041322</td>\n",
       "      <td>-0.051358</td>\n",
       "      <td>-0.010762</td>\n",
       "      <td>-0.02837</td>\n",
       "      <td>-0.056929</td>\n",
       "      <td>-0.115643</td>\n",
       "      <td>...</td>\n",
       "      <td>0.036588</td>\n",
       "      <td>-0.032641</td>\n",
       "      <td>-0.039892</td>\n",
       "      <td>-0.040823</td>\n",
       "      <td>-0.018211</td>\n",
       "      <td>0.663519</td>\n",
       "      <td>-0.149900</td>\n",
       "      <td>-0.020257</td>\n",
       "      <td>-0.023540</td>\n",
       "      <td>0</td>\n",
       "    </tr>\n",
       "  </tbody>\n",
       "</table>\n",
       "<p>5 rows × 170 columns</p>\n",
       "</div>"
      ],
      "text/plain": [
       "     aa_000    ab_000    ac_000    ad_000    ae_000    af_000    ag_000  \\\n",
       "0  0.119381 -0.096307  2.310224 -0.004085 -0.041322 -0.051358 -0.010762   \n",
       "1 -0.180697 -0.096307 -0.432859 -0.004089 -0.041322 -0.051358 -0.010762   \n",
       "2 -0.125811 -0.096307 -0.432859 -0.004090 -0.041322 -0.051358 -0.010762   \n",
       "3 -0.407928 -0.096307 -0.432859 -0.004091 -0.041322 -0.002669 -0.010762   \n",
       "4  0.010572 -0.096307 -0.432857 -0.004080 -0.041322 -0.051358 -0.010762   \n",
       "\n",
       "    ag_001    ag_002    ag_003  ...    ee_003    ee_004    ee_005    ee_006  \\\n",
       "0 -0.02837 -0.056929 -0.115643  ...  0.524393  0.239087  0.070072  0.008264   \n",
       "1 -0.02837 -0.056929 -0.115643  ... -0.059135 -0.129021 -0.131171 -0.184975   \n",
       "2 -0.02837 -0.056929 -0.115643  ... -0.092912 -0.016553  0.016053 -0.009047   \n",
       "3 -0.02837 -0.056929 -0.115223  ... -0.388574 -0.381387 -0.351244 -0.310645   \n",
       "4 -0.02837 -0.056929 -0.115643  ...  0.036588 -0.032641 -0.039892 -0.040823   \n",
       "\n",
       "     ee_007    ee_008    ee_009    ef_000    eg_000  class  \n",
       "0 -0.107586 -0.143103 -0.175699 -0.020257 -0.023540      0  \n",
       "1 -0.152281 -0.088650 -0.143927 -0.020257 -0.023540      0  \n",
       "2 -0.107547 -0.094124 -0.164812 -0.020257 -0.023540      0  \n",
       "3 -0.199493 -0.306838 -0.175699  0.916833  3.685328      0  \n",
       "4 -0.018211  0.663519 -0.149900 -0.020257 -0.023540      0  \n",
       "\n",
       "[5 rows x 170 columns]"
      ]
     },
     "execution_count": 81,
     "metadata": {
      "tags": []
     },
     "output_type": "execute_result"
    }
   ],
   "source": [
    "train_data.head()"
   ]
  },
  {
   "cell_type": "markdown",
   "metadata": {
    "id": "OEHtk4IL-vnz"
   },
   "source": [
    "## Feature Selection"
   ]
  },
  {
   "cell_type": "markdown",
   "metadata": {
    "id": "39lUrcssEMsA"
   },
   "source": [
    "We need to use the features which are mainly responsible for predicting the target variable. (features with high correlation with class variable). phi_k correlation can be used."
   ]
  },
  {
   "cell_type": "code",
   "execution_count": null,
   "metadata": {
    "id": "GijvYgYWryX1"
   },
   "outputs": [],
   "source": [
    "import phik"
   ]
  },
  {
   "cell_type": "code",
   "execution_count": null,
   "metadata": {
    "id": "VQsIRKRH9FSn",
    "outputId": "67a50cad-d04e-4da6-c0d3-d909a5e223a5"
   },
   "outputs": [
    {
     "name": "stdout",
     "output_type": "stream",
     "text": [
      "interval columns not set, guessing: ['aa_000', 'ab_000', 'ac_000', 'ad_000', 'ae_000', 'af_000', 'ag_000', 'ag_001', 'ag_002', 'ag_003', 'ag_004', 'ag_005', 'ag_006', 'ag_007', 'ag_008', 'ag_009', 'ah_000', 'ai_000', 'aj_000', 'ak_000', 'al_000', 'am_0', 'an_000', 'ao_000', 'ap_000', 'aq_000', 'ar_000', 'as_000', 'at_000', 'au_000', 'av_000', 'ax_000', 'ay_000', 'ay_001', 'ay_002', 'ay_003', 'ay_004', 'ay_005', 'ay_006', 'ay_007', 'ay_008', 'ay_009', 'az_000', 'az_001', 'az_002', 'az_003', 'az_004', 'az_005', 'az_006', 'az_007', 'az_008', 'az_009', 'ba_000', 'ba_001', 'ba_002', 'ba_003', 'ba_004', 'ba_005', 'ba_006', 'ba_007', 'ba_008', 'ba_009', 'bb_000', 'bc_000', 'bd_000', 'be_000', 'bf_000', 'bg_000', 'bh_000', 'bi_000', 'bj_000', 'bk_000', 'bl_000', 'bm_000', 'bn_000', 'bo_000', 'bp_000', 'bq_000', 'br_000', 'bs_000', 'bt_000', 'bu_000', 'bv_000', 'bx_000', 'by_000', 'bz_000', 'ca_000', 'cb_000', 'cc_000', 'ce_000', 'cf_000', 'cg_000', 'ch_000', 'ci_000', 'cj_000', 'ck_000', 'cl_000', 'cm_000', 'cn_000', 'cn_001', 'cn_002', 'cn_003', 'cn_004', 'cn_005', 'cn_006', 'cn_007', 'cn_008', 'cn_009', 'co_000', 'cp_000', 'cq_000', 'cr_000', 'cs_000', 'cs_001', 'cs_002', 'cs_003', 'cs_004', 'cs_005', 'cs_006', 'cs_007', 'cs_008', 'cs_009', 'ct_000', 'cu_000', 'cv_000', 'cx_000', 'cy_000', 'cz_000', 'da_000', 'db_000', 'dc_000', 'dd_000', 'de_000', 'df_000', 'dg_000', 'dh_000', 'di_000', 'dj_000', 'dk_000', 'dl_000', 'dm_000', 'dn_000', 'do_000', 'dp_000', 'dq_000', 'dr_000', 'ds_000', 'dt_000', 'du_000', 'dv_000', 'dx_000', 'dy_000', 'dz_000', 'ea_000', 'eb_000', 'ec_00', 'ed_000', 'ee_000', 'ee_001', 'ee_002', 'ee_003', 'ee_004', 'ee_005', 'ee_006', 'ee_007', 'ee_008', 'ee_009', 'ef_000', 'eg_000', 'class']\n"
     ]
    }
   ],
   "source": [
    "phi_k_corr = train_data.phik_matrix()"
   ]
  },
  {
   "cell_type": "code",
   "execution_count": null,
   "metadata": {
    "id": "qpkuiROuxwll"
   },
   "outputs": [],
   "source": [
    "# Get correlation column-value pair for 'class'\n",
    "corr_class = phi_k_corr.loc['class', :].to_dict()\n",
    "corr_class.pop('class')\n",
    "corr_class = {k: v for k, v in sorted(corr_class.items(), key=lambda item: item[1],reverse=True)[:30]}"
   ]
  },
  {
   "cell_type": "code",
   "execution_count": null,
   "metadata": {
    "id": "R7LkWMb170G5"
   },
   "outputs": [],
   "source": [
    "# Check whether these columns are correlated with each others or not\n",
    "def filter_cols(corr_class):\n",
    "    final_cols = set()\n",
    "    corr_columns = list(corr_class.keys())\n",
    "    for col in corr_columns:\n",
    "        # get correlated columns for each column with values in decreasing order\n",
    "        corr_col = phi_k_corr.loc[col, :].to_dict()\n",
    "        corr_col.pop(col)\n",
    "        corr_col_items = filter(lambda item: item[1] > 0.9, corr_col.items())\n",
    "        corr_col = {k: v for k, v in sorted(corr_col_items, key=lambda item: item[1],reverse=True)}\n",
    "        col_corr_columns = list(corr_col.keys())\n",
    "        # get the common columns between the already existing columns and correlated columns\n",
    "        common = list(set(corr_columns) & set(col_corr_columns))\n",
    "        # check for each col\n",
    "        if len(common) != 0:\n",
    "            # We will add only one column chosen from the common_sorted list and the column itself \n",
    "            #Selected column will have heighest correlation value with class label \n",
    "            common.append(col)\n",
    "            col_corr = {k:v for k,v in corr_class.items() if k in common}\n",
    "            selected_col = max(col_corr, key= col_corr.get)\n",
    "            final_cols.add(selected_col)\n",
    "        else:\n",
    "            # add column to final set, if it doesnt have any matched correlated column\n",
    "            selected_col = col\n",
    "            final_cols.add(selected_col)\n",
    "    print('Final columns to proceed for EDA are: ', final_cols)\n",
    "    print('Total final columns:', len(final_cols))\n",
    "    return final_cols      "
   ]
  },
  {
   "cell_type": "code",
   "execution_count": null,
   "metadata": {
    "colab": {
     "base_uri": "https://localhost:8080/"
    },
    "id": "b1SXnqaRm8Tb",
    "outputId": "4a7c661e-b47c-4d1e-95f2-9ad1d47fdebe"
   },
   "outputs": [
    {
     "name": "stdout",
     "output_type": "stream",
     "text": [
      "Final columns to proceed for EDA are:  {'bh_000', 'cn_004', 'ee_000', 'bj_000', 'cc_000', 'ee_005', 'ay_008', 'aq_000', 'ba_005', 'cs_004', 'ci_000', 'ap_000', 'cn_001', 'ee_006', 'an_000', 'ao_000', 'bb_000', 'ck_000'}\n",
      "Total final columns: 18\n"
     ]
    }
   ],
   "source": [
    "final_cols = filter_cols(corr_class)"
   ]
  },
  {
   "cell_type": "markdown",
   "metadata": {
    "id": "cWYkKpCz0j7Q"
   },
   "source": [
    "These are the most correlated features for the target class. We can use these 20 columns for EDA to get better output."
   ]
  },
  {
   "cell_type": "markdown",
   "metadata": {
    "id": "qbaykWLwIXeB"
   },
   "source": [
    "Get percentile values for each columns to get rid of outliers"
   ]
  },
  {
   "cell_type": "code",
   "execution_count": null,
   "metadata": {
    "id": "DZiklTwiIfsH"
   },
   "outputs": [],
   "source": [
    "# 10,20...100 percentile values\n",
    "def print_percentiles1(df, cols):\n",
    "    for col in cols:\n",
    "        for i in range(10,110,10):\n",
    "            print('{}th Percentile value of column {} : {}'.format(i, col,np.percentile(df[col],i)))\n",
    "        print('----------------Column {} END ---------------'.format(col))  "
   ]
  },
  {
   "cell_type": "code",
   "execution_count": null,
   "metadata": {
    "colab": {
     "base_uri": "https://localhost:8080/"
    },
    "id": "-CaR8SFsh8cz",
    "outputId": "a9048d97-daff-44a2-deab-0897caaebbff"
   },
   "outputs": [
    {
     "name": "stdout",
     "output_type": "stream",
     "text": [
      "10th Percentile value of column bh_000 : -0.3790293441357247\n",
      "20th Percentile value of column bh_000 : -0.3765462900319117\n",
      "30th Percentile value of column bh_000 : -0.3724122691037549\n",
      "40th Percentile value of column bh_000 : -0.3321022631205778\n",
      "50th Percentile value of column bh_000 : -0.20639104524774682\n",
      "60th Percentile value of column bh_000 : -0.1584337609342094\n",
      "70th Percentile value of column bh_000 : -0.10146087698629573\n",
      "80th Percentile value of column bh_000 : 0.003390044867587177\n",
      "90th Percentile value of column bh_000 : 0.29732289517991134\n",
      "100th Percentile value of column bh_000 : 20.755802646098974\n",
      "----------------Column bh_000 END ---------------\n",
      "10th Percentile value of column cn_004 : -0.3808408267119443\n",
      "20th Percentile value of column cn_004 : -0.3788635531092587\n",
      "30th Percentile value of column cn_004 : -0.36942079879778394\n",
      "40th Percentile value of column cn_004 : -0.33731385279908177\n",
      "50th Percentile value of column cn_004 : -0.22630560365708824\n",
      "60th Percentile value of column cn_004 : -0.15051462796284432\n",
      "70th Percentile value of column cn_004 : -0.07029146859828461\n",
      "80th Percentile value of column cn_004 : 0.04082987029111493\n",
      "90th Percentile value of column cn_004 : 0.3627731402543856\n",
      "100th Percentile value of column cn_004 : 50.4936236914768\n",
      "----------------Column cn_004 END ---------------\n",
      "10th Percentile value of column ee_000 : -0.30084669036251915\n",
      "20th Percentile value of column ee_000 : -0.2984681903503712\n",
      "30th Percentile value of column ee_000 : -0.29203827564242\n",
      "40th Percentile value of column ee_000 : -0.2575395806728418\n",
      "50th Percentile value of column ee_000 : -0.19450362940789226\n",
      "60th Percentile value of column ee_000 : -0.1559810673650316\n",
      "70th Percentile value of column ee_000 : -0.10601126139583036\n",
      "80th Percentile value of column ee_000 : -0.015873692773525128\n",
      "90th Percentile value of column ee_000 : 0.2273512573997535\n",
      "100th Percentile value of column ee_000 : 30.90008002550293\n",
      "----------------Column ee_000 END ---------------\n",
      "10th Percentile value of column bj_000 : -0.2781424131357906\n",
      "20th Percentile value of column bj_000 : -0.2762908816858898\n",
      "30th Percentile value of column bj_000 : -0.27231511260354463\n",
      "40th Percentile value of column bj_000 : -0.2464550587978459\n",
      "50th Percentile value of column bj_000 : -0.19442382324215385\n",
      "60th Percentile value of column bj_000 : -0.16434002542050963\n",
      "70th Percentile value of column bj_000 : -0.12522048914568223\n",
      "80th Percentile value of column bj_000 : -0.05735683797187588\n",
      "90th Percentile value of column bj_000 : 0.1538706615122914\n",
      "100th Percentile value of column bj_000 : 24.968469323630597\n",
      "----------------Column bj_000 END ---------------\n",
      "10th Percentile value of column cc_000 : -0.3952838731902859\n",
      "20th Percentile value of column cc_000 : -0.3922710599320991\n",
      "30th Percentile value of column cc_000 : -0.38458230311475994\n",
      "40th Percentile value of column cc_000 : -0.32365497500403706\n",
      "50th Percentile value of column cc_000 : -0.17105895400046486\n",
      "60th Percentile value of column cc_000 : -0.13146852432536543\n",
      "70th Percentile value of column cc_000 : -0.08901742599596568\n",
      "80th Percentile value of column cc_000 : 0.007682669948012241\n",
      "90th Percentile value of column cc_000 : 0.2888263648429468\n",
      "100th Percentile value of column cc_000 : 15.46675452214507\n",
      "----------------Column cc_000 END ---------------\n",
      "10th Percentile value of column ee_005 : -0.3512583001986739\n",
      "20th Percentile value of column ee_005 : -0.3506110993018916\n",
      "30th Percentile value of column ee_005 : -0.3408781521127268\n",
      "40th Percentile value of column ee_005 : -0.29550825709597606\n",
      "50th Percentile value of column ee_005 : -0.1808837403971903\n",
      "60th Percentile value of column ee_005 : -0.1070249875018211\n",
      "70th Percentile value of column ee_005 : -0.038104908411942\n",
      "80th Percentile value of column ee_005 : 0.07218113797376878\n",
      "90th Percentile value of column ee_005 : 0.3296634135964347\n",
      "100th Percentile value of column ee_005 : 51.16220916719786\n",
      "----------------Column ee_005 END ---------------\n",
      "10th Percentile value of column ay_008 : -0.2619184944724901\n",
      "20th Percentile value of column ay_008 : -0.26080199579166574\n",
      "30th Percentile value of column ay_008 : -0.2586058758343291\n",
      "40th Percentile value of column ay_008 : -0.253100260734825\n",
      "50th Percentile value of column ay_008 : -0.23819584467457927\n",
      "60th Percentile value of column ay_008 : -0.2100228176333392\n",
      "70th Percentile value of column ay_008 : -0.15436584707023077\n",
      "80th Percentile value of column ay_008 : -0.04736011374066457\n",
      "90th Percentile value of column ay_008 : 0.21801381876412257\n",
      "100th Percentile value of column ay_008 : 26.07780703251284\n",
      "----------------Column ay_008 END ---------------\n",
      "10th Percentile value of column aq_000 : -0.3493890519687957\n",
      "20th Percentile value of column aq_000 : -0.3479393282078672\n",
      "30th Percentile value of column aq_000 : -0.344924800506042\n",
      "40th Percentile value of column aq_000 : -0.3143362339978703\n",
      "50th Percentile value of column aq_000 : -0.20773696986507606\n",
      "60th Percentile value of column aq_000 : -0.15667893416727308\n",
      "70th Percentile value of column aq_000 : -0.09458625316313211\n",
      "80th Percentile value of column aq_000 : 0.007186965248170011\n",
      "90th Percentile value of column aq_000 : 0.2852205208812105\n",
      "100th Percentile value of column aq_000 : 19.99405062770798\n",
      "----------------Column aq_000 END ---------------\n",
      "10th Percentile value of column ba_005 : -0.37058904077824417\n",
      "20th Percentile value of column ba_005 : -0.3702889171549093\n",
      "30th Percentile value of column ba_005 : -0.36939644427499246\n",
      "40th Percentile value of column ba_005 : -0.3518684348732271\n",
      "50th Percentile value of column ba_005 : -0.20484576979156213\n",
      "60th Percentile value of column ba_005 : -0.14182612728330957\n",
      "70th Percentile value of column ba_005 : -0.06547665200444075\n",
      "80th Percentile value of column ba_005 : 0.07011090812866205\n",
      "90th Percentile value of column ba_005 : 0.39179999339815974\n",
      "100th Percentile value of column ba_005 : 37.556771702122504\n",
      "----------------Column ba_005 END ---------------\n",
      "10th Percentile value of column cs_004 : -0.21325430189601258\n",
      "20th Percentile value of column cs_004 : -0.21268610297525706\n",
      "30th Percentile value of column cs_004 : -0.21076140185290257\n",
      "40th Percentile value of column cs_004 : -0.19678681119505798\n",
      "50th Percentile value of column cs_004 : -0.16930130346965078\n",
      "60th Percentile value of column cs_004 : -0.1523571462338098\n",
      "70th Percentile value of column cs_004 : -0.12983814310226255\n",
      "80th Percentile value of column cs_004 : -0.09053690973106214\n",
      "90th Percentile value of column cs_004 : 0.03624892245368018\n",
      "100th Percentile value of column cs_004 : 36.07982538507858\n",
      "----------------Column cs_004 END ---------------\n",
      "10th Percentile value of column ci_000 : -0.4162655593825422\n",
      "20th Percentile value of column ci_000 : -0.41405923651479054\n",
      "30th Percentile value of column ci_000 : -0.4070204054266747\n",
      "40th Percentile value of column ci_000 : -0.3514599818384025\n",
      "50th Percentile value of column ci_000 : -0.1936128039202838\n",
      "60th Percentile value of column ci_000 : -0.14814753520932397\n",
      "70th Percentile value of column ci_000 : -0.1101905657306674\n",
      "80th Percentile value of column ci_000 : 0.00323935231073315\n",
      "90th Percentile value of column ci_000 : 0.36684363959697874\n",
      "100th Percentile value of column ci_000 : 16.50186736995178\n",
      "----------------Column ci_000 END ---------------\n",
      "10th Percentile value of column ap_000 : -0.3212142730856814\n",
      "20th Percentile value of column ap_000 : -0.3185806594844594\n",
      "30th Percentile value of column ap_000 : -0.3119733877143347\n",
      "40th Percentile value of column ap_000 : -0.2694450844795145\n",
      "50th Percentile value of column ap_000 : -0.2082797015041634\n",
      "60th Percentile value of column ap_000 : -0.17161252291364476\n",
      "70th Percentile value of column ap_000 : -0.12446673866934652\n",
      "80th Percentile value of column ap_000 : -0.041506803670515874\n",
      "90th Percentile value of column ap_000 : 0.20298132371695757\n",
      "100th Percentile value of column ap_000 : 25.040062911918795\n",
      "----------------Column ap_000 END ---------------\n",
      "10th Percentile value of column cn_001 : -0.08879049327479388\n",
      "20th Percentile value of column cn_001 : -0.08879049327479388\n",
      "30th Percentile value of column cn_001 : -0.08879049327479388\n",
      "40th Percentile value of column cn_001 : -0.08879049327479388\n",
      "50th Percentile value of column cn_001 : -0.08879049327479388\n",
      "60th Percentile value of column cn_001 : -0.08879049327479388\n",
      "70th Percentile value of column cn_001 : -0.08879049327479388\n",
      "80th Percentile value of column cn_001 : -0.08879049327479388\n",
      "90th Percentile value of column cn_001 : -0.08205146395283505\n",
      "100th Percentile value of column cn_001 : 59.294021962956734\n",
      "----------------Column cn_001 END ---------------\n",
      "10th Percentile value of column ee_006 : -0.31064288755452263\n",
      "20th Percentile value of column ee_006 : -0.3105488545703816\n",
      "30th Percentile value of column ee_006 : -0.30895593581903286\n",
      "40th Percentile value of column ee_006 : -0.2992272832798038\n",
      "50th Percentile value of column ee_006 : -0.2237376036113997\n",
      "60th Percentile value of column ee_006 : -0.1477202108359962\n",
      "70th Percentile value of column ee_006 : -0.09120939642274077\n",
      "80th Percentile value of column ee_006 : -0.0009791061603916069\n",
      "90th Percentile value of column ee_006 : 0.26306983882483936\n",
      "100th Percentile value of column ee_006 : 29.411116554427824\n",
      "----------------Column ee_006 END ---------------\n",
      "10th Percentile value of column an_000 : -0.4427608837961114\n",
      "20th Percentile value of column an_000 : -0.438868117693785\n",
      "30th Percentile value of column an_000 : -0.4303648158525458\n",
      "40th Percentile value of column an_000 : -0.3587232307627656\n",
      "50th Percentile value of column an_000 : -0.19688785479948112\n",
      "60th Percentile value of column an_000 : -0.14725034513206148\n",
      "70th Percentile value of column an_000 : -0.09721108678763131\n",
      "80th Percentile value of column an_000 : 0.0279758706145501\n",
      "90th Percentile value of column an_000 : 0.41735302124067397\n",
      "100th Percentile value of column an_000 : 17.73099214949411\n",
      "----------------Column an_000 END ---------------\n",
      "10th Percentile value of column ao_000 : -0.4388363705636256\n",
      "20th Percentile value of column ao_000 : -0.43494827406501074\n",
      "30th Percentile value of column ao_000 : -0.4258514242216618\n",
      "40th Percentile value of column ao_000 : -0.3539612869910947\n",
      "50th Percentile value of column ao_000 : -0.19824653912091078\n",
      "60th Percentile value of column ao_000 : -0.14812734955341772\n",
      "70th Percentile value of column ao_000 : -0.09868985206228077\n",
      "80th Percentile value of column ao_000 : 0.02625634352120773\n",
      "90th Percentile value of column ao_000 : 0.4198883740073929\n",
      "100th Percentile value of column ao_000 : 17.564270680432145\n",
      "----------------Column ao_000 END ---------------\n",
      "10th Percentile value of column bb_000 : -0.41341292050461587\n",
      "20th Percentile value of column bb_000 : -0.4092000998512446\n",
      "30th Percentile value of column bb_000 : -0.4020876848414522\n",
      "40th Percentile value of column bb_000 : -0.34073124741740174\n",
      "50th Percentile value of column bb_000 : -0.19779469128962315\n",
      "60th Percentile value of column bb_000 : -0.15728690551027075\n"
     ]
    },
    {
     "name": "stdout",
     "output_type": "stream",
     "text": [
      "70th Percentile value of column bb_000 : -0.10751700832241343\n",
      "80th Percentile value of column bb_000 : 0.0035435292440028653\n",
      "90th Percentile value of column bb_000 : 0.3411511243412503\n",
      "100th Percentile value of column bb_000 : 17.392786516951077\n",
      "----------------Column bb_000 END ---------------\n",
      "10th Percentile value of column ck_000 : -0.3252629737723142\n",
      "20th Percentile value of column ck_000 : -0.32261456996246013\n",
      "30th Percentile value of column ck_000 : -0.31679852546793436\n",
      "40th Percentile value of column ck_000 : -0.2779428069633934\n",
      "50th Percentile value of column ck_000 : -0.2121833967881883\n",
      "60th Percentile value of column ck_000 : -0.17149567216143702\n",
      "70th Percentile value of column ck_000 : -0.11748506119351207\n",
      "80th Percentile value of column ck_000 : -0.02151915728316174\n",
      "90th Percentile value of column ck_000 : 0.25075668868698614\n",
      "100th Percentile value of column ck_000 : 25.159268197880493\n",
      "----------------Column ck_000 END ---------------\n"
     ]
    }
   ],
   "source": [
    "print_percentiles1(train_data, final_cols)"
   ]
  },
  {
   "cell_type": "code",
   "execution_count": null,
   "metadata": {
    "id": "6-V32xZ7KGNk"
   },
   "outputs": [],
   "source": [
    "# 91,92...100 percentile values\n",
    "def print_percentiles2(df, cols):\n",
    "    for col in cols:\n",
    "        for i in range(90,101):\n",
    "            print('{}th Percentile value of column {} : {}'.format(i, col,np.percentile(df[col],i)))\n",
    "        print('----------------Column {} END ---------------'.format(col))"
   ]
  },
  {
   "cell_type": "code",
   "execution_count": null,
   "metadata": {
    "colab": {
     "base_uri": "https://localhost:8080/"
    },
    "id": "DJNvE0dsh6uS",
    "outputId": "ccf12110-3e37-4aa9-a74d-98c88277f0db"
   },
   "outputs": [
    {
     "name": "stdout",
     "output_type": "stream",
     "text": [
      "90th Percentile value of column bh_000 : 0.29732289517991134\n",
      "91th Percentile value of column bh_000 : 0.36867609639989735\n",
      "92th Percentile value of column bh_000 : 0.45366337788735217\n",
      "93th Percentile value of column bh_000 : 0.5658037805414229\n",
      "94th Percentile value of column bh_000 : 0.7252381750776817\n",
      "95th Percentile value of column bh_000 : 0.9994460662368209\n",
      "96th Percentile value of column bh_000 : 1.4040111279898457\n",
      "97th Percentile value of column bh_000 : 2.114346604263077\n",
      "98th Percentile value of column bh_000 : 3.296667344301698\n",
      "99th Percentile value of column bh_000 : 5.07856072467774\n",
      "100th Percentile value of column bh_000 : 20.755802646098974\n",
      "----------------Column bh_000 END ---------------\n",
      "90th Percentile value of column cn_004 : 0.3627731402543856\n",
      "91th Percentile value of column cn_004 : 0.4386926537076137\n",
      "92th Percentile value of column cn_004 : 0.5330662216256509\n",
      "93th Percentile value of column cn_004 : 0.6477886543403917\n",
      "94th Percentile value of column cn_004 : 0.7892789271125847\n",
      "95th Percentile value of column cn_004 : 0.99702291226148\n",
      "96th Percentile value of column cn_004 : 1.312727857053626\n",
      "97th Percentile value of column cn_004 : 1.73754476713479\n",
      "98th Percentile value of column cn_004 : 2.691038564085921\n",
      "99th Percentile value of column cn_004 : 4.825945917127057\n",
      "100th Percentile value of column cn_004 : 50.4936236914768\n",
      "----------------Column cn_004 END ---------------\n",
      "90th Percentile value of column ee_000 : 0.2273512573997535\n",
      "91th Percentile value of column ee_000 : 0.2807429691161639\n",
      "92th Percentile value of column ee_000 : 0.34760545160013967\n",
      "93th Percentile value of column ee_000 : 0.43985788699030476\n",
      "94th Percentile value of column ee_000 : 0.5594366817313456\n",
      "95th Percentile value of column ee_000 : 0.7334010831062217\n",
      "96th Percentile value of column ee_000 : 1.004006772136586\n",
      "97th Percentile value of column ee_000 : 1.4949557402061802\n",
      "98th Percentile value of column ee_000 : 2.300458659184261\n",
      "99th Percentile value of column ee_000 : 4.0720164105273495\n",
      "100th Percentile value of column ee_000 : 30.90008002550293\n",
      "----------------Column ee_000 END ---------------\n",
      "90th Percentile value of column bj_000 : 0.1538706615122914\n",
      "91th Percentile value of column bj_000 : 0.20255403673112987\n",
      "92th Percentile value of column bj_000 : 0.26639645307118515\n",
      "93th Percentile value of column bj_000 : 0.350283855820331\n",
      "94th Percentile value of column bj_000 : 0.47100659902673075\n",
      "95th Percentile value of column bj_000 : 0.6548538899096662\n",
      "96th Percentile value of column bj_000 : 0.9624758263630135\n",
      "97th Percentile value of column bj_000 : 1.561678161068446\n",
      "98th Percentile value of column bj_000 : 2.5692455722639123\n",
      "99th Percentile value of column bj_000 : 4.417380847566572\n",
      "100th Percentile value of column bj_000 : 24.968469323630597\n",
      "----------------Column bj_000 END ---------------\n",
      "90th Percentile value of column cc_000 : 0.2888263648429468\n",
      "91th Percentile value of column cc_000 : 0.34965122856897296\n",
      "92th Percentile value of column cc_000 : 0.41291386000473473\n",
      "93th Percentile value of column cc_000 : 0.5038356695507629\n",
      "94th Percentile value of column cc_000 : 0.6599663190298674\n",
      "95th Percentile value of column cc_000 : 0.8642459025341733\n",
      "96th Percentile value of column cc_000 : 1.2071634276314303\n",
      "97th Percentile value of column cc_000 : 1.9056514972434937\n",
      "98th Percentile value of column cc_000 : 3.4198442091628523\n",
      "99th Percentile value of column cc_000 : 5.408548056321577\n",
      "100th Percentile value of column cc_000 : 15.46675452214507\n",
      "----------------Column cc_000 END ---------------\n",
      "90th Percentile value of column ee_005 : 0.3296634135964347\n",
      "91th Percentile value of column ee_005 : 0.381448310805787\n",
      "92th Percentile value of column ee_005 : 0.45222654528635\n",
      "93th Percentile value of column ee_005 : 0.5314148755887245\n",
      "94th Percentile value of column ee_005 : 0.6482864063544815\n",
      "95th Percentile value of column ee_005 : 0.7894709500552451\n",
      "96th Percentile value of column ee_005 : 0.9972628341645652\n",
      "97th Percentile value of column ee_005 : 1.3626663436500621\n",
      "98th Percentile value of column ee_005 : 1.939115141531166\n",
      "99th Percentile value of column ee_005 : 3.7348287762481456\n",
      "100th Percentile value of column ee_005 : 51.16220916719786\n",
      "----------------Column ee_005 END ---------------\n",
      "90th Percentile value of column ay_008 : 0.21801381876412257\n",
      "91th Percentile value of column ay_008 : 0.2730100137497781\n",
      "92th Percentile value of column ay_008 : 0.3406081749892388\n",
      "93th Percentile value of column ay_008 : 0.43233391201691057\n",
      "94th Percentile value of column ay_008 : 0.5611872957646807\n",
      "95th Percentile value of column ay_008 : 0.7414226772838609\n",
      "96th Percentile value of column ay_008 : 1.0423098927181238\n",
      "97th Percentile value of column ay_008 : 1.5302918228968168\n",
      "98th Percentile value of column ay_008 : 2.3804883538513173\n",
      "99th Percentile value of column ay_008 : 4.540186594714076\n",
      "100th Percentile value of column ay_008 : 26.07780703251284\n",
      "----------------Column ay_008 END ---------------\n",
      "90th Percentile value of column aq_000 : 0.2852205208812105\n",
      "91th Percentile value of column aq_000 : 0.34385517777212415\n",
      "92th Percentile value of column aq_000 : 0.4145348298315653\n",
      "93th Percentile value of column aq_000 : 0.5167733669124651\n",
      "94th Percentile value of column aq_000 : 0.6559125944972407\n",
      "95th Percentile value of column aq_000 : 0.8493946567756809\n",
      "96th Percentile value of column aq_000 : 1.194253697129617\n",
      "97th Percentile value of column aq_000 : 1.796407475821092\n",
      "98th Percentile value of column aq_000 : 2.7501642799193227\n",
      "99th Percentile value of column aq_000 : 4.869935019124949\n",
      "100th Percentile value of column aq_000 : 19.99405062770798\n",
      "----------------Column aq_000 END ---------------\n",
      "90th Percentile value of column ba_005 : 0.39179999339815974\n",
      "91th Percentile value of column ba_005 : 0.45319241300863156\n",
      "92th Percentile value of column ba_005 : 0.53183135765414\n",
      "93th Percentile value of column ba_005 : 0.6286483557755871\n",
      "94th Percentile value of column ba_005 : 0.7556801417164705\n",
      "95th Percentile value of column ba_005 : 0.9358793014105291\n",
      "96th Percentile value of column ba_005 : 1.1713763176839433\n",
      "97th Percentile value of column ba_005 : 1.5521996292380196\n",
      "98th Percentile value of column ba_005 : 2.2960016915016874\n",
      "99th Percentile value of column ba_005 : 4.41292477441283\n",
      "100th Percentile value of column ba_005 : 37.556771702122504\n",
      "----------------Column ba_005 END ---------------\n",
      "90th Percentile value of column cs_004 : 0.03624892245368018\n",
      "91th Percentile value of column cs_004 : 0.0696972124335054\n",
      "92th Percentile value of column cs_004 : 0.11974951599490466\n",
      "93th Percentile value of column cs_004 : 0.18574736234080136\n",
      "94th Percentile value of column cs_004 : 0.2832809469169975\n",
      "95th Percentile value of column cs_004 : 0.4394575179250489\n",
      "96th Percentile value of column cs_004 : 0.6800494245593779\n",
      "97th Percentile value of column cs_004 : 1.1144646489134646\n",
      "98th Percentile value of column cs_004 : 2.056183558213869\n",
      "99th Percentile value of column cs_004 : 4.039976020551333\n",
      "100th Percentile value of column cs_004 : 36.07982538507858\n",
      "----------------Column cs_004 END ---------------\n",
      "90th Percentile value of column ci_000 : 0.36684363959697874\n",
      "91th Percentile value of column ci_000 : 0.43212900731752985\n",
      "92th Percentile value of column ci_000 : 0.5508253091445097\n",
      "93th Percentile value of column ci_000 : 0.694725539139558\n",
      "94th Percentile value of column ci_000 : 0.869850948815383\n",
      "95th Percentile value of column ci_000 : 1.1247279748848074\n",
      "96th Percentile value of column ci_000 : 1.5086597593372248\n",
      "97th Percentile value of column ci_000 : 2.2886574393034502\n",
      "98th Percentile value of column ci_000 : 3.557604908098832\n",
      "99th Percentile value of column ci_000 : 5.355472938344671\n",
      "100th Percentile value of column ci_000 : 16.50186736995178\n",
      "----------------Column ci_000 END ---------------\n",
      "90th Percentile value of column ap_000 : 0.20298132371695757\n",
      "91th Percentile value of column ap_000 : 0.26807577047964526\n",
      "92th Percentile value of column ap_000 : 0.34426041228499815\n",
      "93th Percentile value of column ap_000 : 0.4418010241789896\n",
      "94th Percentile value of column ap_000 : 0.5831663203064328\n",
      "95th Percentile value of column ap_000 : 0.7948435732939998\n",
      "96th Percentile value of column ap_000 : 1.1844480345656223\n",
      "97th Percentile value of column ap_000 : 1.8735861677490577\n",
      "98th Percentile value of column ap_000 : 2.993428476516791\n",
      "99th Percentile value of column ap_000 : 4.88962472357661\n",
      "100th Percentile value of column ap_000 : 25.040062911918795\n",
      "----------------Column ap_000 END ---------------\n",
      "90th Percentile value of column cn_001 : -0.08205146395283505\n",
      "91th Percentile value of column cn_001 : -0.07828153556420102\n",
      "92th Percentile value of column cn_001 : -0.0722921056179452\n",
      "93th Percentile value of column cn_001 : -0.06265271591676513\n",
      "94th Percentile value of column cn_001 : -0.0450827939558278\n",
      "95th Percentile value of column cn_001 : -0.01611699746837359\n",
      "96th Percentile value of column cn_001 : 0.05616434984368616\n",
      "97th Percentile value of column cn_001 : 0.20576138988197937\n",
      "98th Percentile value of column cn_001 : 0.5984029340531003\n",
      "99th Percentile value of column cn_001 : 1.8861336458578524\n",
      "100th Percentile value of column cn_001 : 59.294021962956734\n",
      "----------------Column cn_001 END ---------------\n",
      "90th Percentile value of column ee_006 : 0.26306983882483936\n",
      "91th Percentile value of column ee_006 : 0.326210542817941\n",
      "92th Percentile value of column ee_006 : 0.3966400443173621\n",
      "93th Percentile value of column ee_006 : 0.5010700486422798\n",
      "94th Percentile value of column ee_006 : 0.6355891785909624\n",
      "95th Percentile value of column ee_006 : 0.8120712611698477\n",
      "96th Percentile value of column ee_006 : 1.0900061697627637\n",
      "97th Percentile value of column ee_006 : 1.6077162547817647\n",
      "98th Percentile value of column ee_006 : 2.5142038696852893\n",
      "99th Percentile value of column ee_006 : 4.3017011633448865\n",
      "100th Percentile value of column ee_006 : 29.411116554427824\n",
      "----------------Column ee_006 END ---------------\n",
      "90th Percentile value of column an_000 : 0.41735302124067397\n",
      "91th Percentile value of column an_000 : 0.4936921342835373\n",
      "92th Percentile value of column an_000 : 0.605704919547059\n",
      "93th Percentile value of column an_000 : 0.7608407260049038\n",
      "94th Percentile value of column an_000 : 0.940271106948819\n",
      "95th Percentile value of column an_000 : 1.1777588297138437\n",
      "96th Percentile value of column an_000 : 1.5760810457283743\n",
      "97th Percentile value of column an_000 : 2.3475420265816545\n",
      "98th Percentile value of column an_000 : 3.6154040650012793\n",
      "99th Percentile value of column an_000 : 5.36448147131257\n",
      "100th Percentile value of column an_000 : 17.73099214949411\n",
      "----------------Column an_000 END ---------------\n",
      "90th Percentile value of column ao_000 : 0.4198883740073929\n",
      "91th Percentile value of column ao_000 : 0.4989449354760282\n",
      "92th Percentile value of column ao_000 : 0.6175493438386889\n",
      "93th Percentile value of column ao_000 : 0.7601607642072491\n",
      "94th Percentile value of column ao_000 : 0.9343046421701668\n",
      "95th Percentile value of column ao_000 : 1.1750173897604619\n",
      "96th Percentile value of column ao_000 : 1.5769466123402045\n",
      "97th Percentile value of column ao_000 : 2.3351593108508624\n",
      "98th Percentile value of column ao_000 : 3.5540185022420516\n",
      "99th Percentile value of column ao_000 : 5.3092538938095215\n",
      "100th Percentile value of column ao_000 : 17.564270680432145\n",
      "----------------Column ao_000 END ---------------\n",
      "90th Percentile value of column bb_000 : 0.3411511243412503\n",
      "91th Percentile value of column bb_000 : 0.4246408420912744\n",
      "92th Percentile value of column bb_000 : 0.5432983179795196\n",
      "93th Percentile value of column bb_000 : 0.6721900284616054\n",
      "94th Percentile value of column bb_000 : 0.8468090604858626\n",
      "95th Percentile value of column bb_000 : 1.0724729030198283\n",
      "96th Percentile value of column bb_000 : 1.4980876770257665\n",
      "97th Percentile value of column bb_000 : 2.3183253078773416\n",
      "98th Percentile value of column bb_000 : 3.5690597334764114\n",
      "99th Percentile value of column bb_000 : 5.397285370528981\n",
      "100th Percentile value of column bb_000 : 17.392786516951077\n",
      "----------------Column bb_000 END ---------------\n",
      "90th Percentile value of column ck_000 : 0.25075668868698614\n",
      "91th Percentile value of column ck_000 : 0.3113560814449297\n",
      "92th Percentile value of column ck_000 : 0.3918339170007585\n",
      "93th Percentile value of column ck_000 : 0.49552866377913896\n",
      "94th Percentile value of column ck_000 : 0.6439504475865652\n",
      "95th Percentile value of column ck_000 : 0.8745845467648632\n",
      "96th Percentile value of column ck_000 : 1.2392453411129765\n",
      "97th Percentile value of column ck_000 : 1.82381571326412\n",
      "98th Percentile value of column ck_000 : 2.716146834548527\n",
      "99th Percentile value of column ck_000 : 4.509354578108089\n",
      "100th Percentile value of column ck_000 : 25.159268197880493\n",
      "----------------Column ck_000 END ---------------\n"
     ]
    }
   ],
   "source": [
    "print_percentiles2(train_data, final_cols)"
   ]
  },
  {
   "cell_type": "markdown",
   "metadata": {
    "id": "uSOZYhs-J7Xc"
   },
   "source": [
    "We need to remove the outliers which are impacting EDA plot results. As we can see from the above numbers, the difference between 99th and 100th percentile values are more as compared to others. So we can keep the values till 99th percentile values and discard others.\n",
    "But the dataset contains multiple columns, we cant simply discard rows based percentile value of a single column. So we can replace the values which are more than 99th percentile with the 99th percentile value. "
   ]
  },
  {
   "cell_type": "code",
   "execution_count": null,
   "metadata": {
    "id": "mCekkXvOgg-y"
   },
   "outputs": [],
   "source": [
    "def manage_outliers(df):\n",
    "    for col in df.columns:\n",
    "        if col != 'class':\n",
    "            if (((df[col].dtype)=='float64') | ((df[col].dtype)=='int64')):\n",
    "                # Replces values from 99-100 percentile values with 99th percentile as 100th percentile values are outliers.\n",
    "                cut_off = np.percentile(df[col], 99)\n",
    "                df[col][df[col] >= cut_off] = cut_off\n",
    "        else:\n",
    "            df[col]=df[col]\n",
    "    return df"
   ]
  },
  {
   "cell_type": "code",
   "execution_count": null,
   "metadata": {
    "id": "MQvawFWVhfgJ"
   },
   "outputs": [],
   "source": [
    "train_data = manage_outliers(train_data.copy())"
   ]
  },
  {
   "cell_type": "code",
   "execution_count": null,
   "metadata": {
    "colab": {
     "base_uri": "https://localhost:8080/"
    },
    "id": "625Jop9WijDs",
    "outputId": "59aa4823-c7fd-4ee3-c0c4-34bdc461ec2a"
   },
   "outputs": [
    {
     "name": "stdout",
     "output_type": "stream",
     "text": [
      "10th Percentile value of column bh_000 : -0.3790293441357247\n",
      "20th Percentile value of column bh_000 : -0.3765462900319117\n",
      "30th Percentile value of column bh_000 : -0.3724122691037549\n",
      "40th Percentile value of column bh_000 : -0.3321022631205778\n",
      "50th Percentile value of column bh_000 : -0.20639104524774682\n",
      "60th Percentile value of column bh_000 : -0.1584337609342094\n",
      "70th Percentile value of column bh_000 : -0.10146087698629573\n",
      "80th Percentile value of column bh_000 : 0.003390044867587177\n",
      "90th Percentile value of column bh_000 : 0.29732289517991134\n",
      "100th Percentile value of column bh_000 : 5.07856072467774\n",
      "----------------Column bh_000 END ---------------\n",
      "10th Percentile value of column cn_004 : -0.3808408267119443\n",
      "20th Percentile value of column cn_004 : -0.3788635531092587\n",
      "30th Percentile value of column cn_004 : -0.36942079879778394\n",
      "40th Percentile value of column cn_004 : -0.33731385279908177\n",
      "50th Percentile value of column cn_004 : -0.22630560365708824\n",
      "60th Percentile value of column cn_004 : -0.15051462796284432\n",
      "70th Percentile value of column cn_004 : -0.07029146859828461\n",
      "80th Percentile value of column cn_004 : 0.04082987029111493\n",
      "90th Percentile value of column cn_004 : 0.3627731402543856\n",
      "100th Percentile value of column cn_004 : 4.825945917127057\n",
      "----------------Column cn_004 END ---------------\n",
      "10th Percentile value of column ee_000 : -0.30084669036251915\n",
      "20th Percentile value of column ee_000 : -0.2984681903503712\n",
      "30th Percentile value of column ee_000 : -0.29203827564242\n",
      "40th Percentile value of column ee_000 : -0.2575395806728418\n",
      "50th Percentile value of column ee_000 : -0.19450362940789226\n",
      "60th Percentile value of column ee_000 : -0.1559810673650316\n",
      "70th Percentile value of column ee_000 : -0.10601126139583036\n",
      "80th Percentile value of column ee_000 : -0.015873692773525128\n",
      "90th Percentile value of column ee_000 : 0.2273512573997535\n",
      "100th Percentile value of column ee_000 : 4.0720164105273495\n",
      "----------------Column ee_000 END ---------------\n",
      "10th Percentile value of column bj_000 : -0.2781424131357906\n",
      "20th Percentile value of column bj_000 : -0.2762908816858898\n",
      "30th Percentile value of column bj_000 : -0.27231511260354463\n",
      "40th Percentile value of column bj_000 : -0.2464550587978459\n",
      "50th Percentile value of column bj_000 : -0.19442382324215385\n",
      "60th Percentile value of column bj_000 : -0.16434002542050963\n",
      "70th Percentile value of column bj_000 : -0.12522048914568223\n",
      "80th Percentile value of column bj_000 : -0.05735683797187588\n",
      "90th Percentile value of column bj_000 : 0.1538706615122914\n",
      "100th Percentile value of column bj_000 : 4.417380847566572\n",
      "----------------Column bj_000 END ---------------\n",
      "10th Percentile value of column cc_000 : -0.3952838731902859\n",
      "20th Percentile value of column cc_000 : -0.3922710599320991\n",
      "30th Percentile value of column cc_000 : -0.38458230311475994\n",
      "40th Percentile value of column cc_000 : -0.32365497500403706\n",
      "50th Percentile value of column cc_000 : -0.17105895400046486\n",
      "60th Percentile value of column cc_000 : -0.13146852432536543\n",
      "70th Percentile value of column cc_000 : -0.08901742599596568\n",
      "80th Percentile value of column cc_000 : 0.007682669948012241\n",
      "90th Percentile value of column cc_000 : 0.2888263648429468\n",
      "100th Percentile value of column cc_000 : 5.408548056321577\n",
      "----------------Column cc_000 END ---------------\n",
      "10th Percentile value of column ee_005 : -0.3512583001986739\n",
      "20th Percentile value of column ee_005 : -0.3506110993018916\n",
      "30th Percentile value of column ee_005 : -0.3408781521127268\n",
      "40th Percentile value of column ee_005 : -0.29550825709597606\n",
      "50th Percentile value of column ee_005 : -0.1808837403971903\n",
      "60th Percentile value of column ee_005 : -0.1070249875018211\n",
      "70th Percentile value of column ee_005 : -0.038104908411942\n",
      "80th Percentile value of column ee_005 : 0.07218113797376878\n",
      "90th Percentile value of column ee_005 : 0.3296634135964347\n",
      "100th Percentile value of column ee_005 : 3.7348287762481456\n",
      "----------------Column ee_005 END ---------------\n",
      "10th Percentile value of column ay_008 : -0.2619184944724901\n",
      "20th Percentile value of column ay_008 : -0.26080199579166574\n",
      "30th Percentile value of column ay_008 : -0.2586058758343291\n",
      "40th Percentile value of column ay_008 : -0.253100260734825\n",
      "50th Percentile value of column ay_008 : -0.23819584467457927\n",
      "60th Percentile value of column ay_008 : -0.2100228176333392\n",
      "70th Percentile value of column ay_008 : -0.15436584707023077\n",
      "80th Percentile value of column ay_008 : -0.04736011374066457\n",
      "90th Percentile value of column ay_008 : 0.21801381876412257\n",
      "100th Percentile value of column ay_008 : 4.540186594714076\n",
      "----------------Column ay_008 END ---------------\n",
      "10th Percentile value of column aq_000 : -0.3493890519687957\n",
      "20th Percentile value of column aq_000 : -0.3479393282078672\n",
      "30th Percentile value of column aq_000 : -0.344924800506042\n",
      "40th Percentile value of column aq_000 : -0.3143362339978703\n",
      "50th Percentile value of column aq_000 : -0.20773696986507606\n",
      "60th Percentile value of column aq_000 : -0.15667893416727308\n",
      "70th Percentile value of column aq_000 : -0.09458625316313211\n",
      "80th Percentile value of column aq_000 : 0.007186965248170011\n",
      "90th Percentile value of column aq_000 : 0.2852205208812105\n",
      "100th Percentile value of column aq_000 : 4.869935019124949\n",
      "----------------Column aq_000 END ---------------\n",
      "10th Percentile value of column ba_005 : -0.37058904077824417\n",
      "20th Percentile value of column ba_005 : -0.3702889171549093\n",
      "30th Percentile value of column ba_005 : -0.36939644427499246\n",
      "40th Percentile value of column ba_005 : -0.3518684348732271\n",
      "50th Percentile value of column ba_005 : -0.20484576979156213\n",
      "60th Percentile value of column ba_005 : -0.14182612728330957\n",
      "70th Percentile value of column ba_005 : -0.06547665200444075\n",
      "80th Percentile value of column ba_005 : 0.07011090812866205\n",
      "90th Percentile value of column ba_005 : 0.39179999339815974\n",
      "100th Percentile value of column ba_005 : 4.41292477441283\n",
      "----------------Column ba_005 END ---------------\n",
      "10th Percentile value of column cs_004 : -0.21325430189601258\n",
      "20th Percentile value of column cs_004 : -0.21268610297525706\n",
      "30th Percentile value of column cs_004 : -0.21076140185290257\n",
      "40th Percentile value of column cs_004 : -0.19678681119505798\n",
      "50th Percentile value of column cs_004 : -0.16930130346965078\n",
      "60th Percentile value of column cs_004 : -0.1523571462338098\n",
      "70th Percentile value of column cs_004 : -0.12983814310226255\n",
      "80th Percentile value of column cs_004 : -0.09053690973106214\n",
      "90th Percentile value of column cs_004 : 0.03624892245368018\n",
      "100th Percentile value of column cs_004 : 4.039976020551333\n",
      "----------------Column cs_004 END ---------------\n",
      "10th Percentile value of column ci_000 : -0.4162655593825422\n",
      "20th Percentile value of column ci_000 : -0.41405923651479054\n",
      "30th Percentile value of column ci_000 : -0.4070204054266747\n",
      "40th Percentile value of column ci_000 : -0.3514599818384025\n",
      "50th Percentile value of column ci_000 : -0.1936128039202838\n",
      "60th Percentile value of column ci_000 : -0.14814753520932397\n",
      "70th Percentile value of column ci_000 : -0.1101905657306674\n",
      "80th Percentile value of column ci_000 : 0.00323935231073315\n",
      "90th Percentile value of column ci_000 : 0.36684363959697874\n",
      "100th Percentile value of column ci_000 : 5.355472938344671\n",
      "----------------Column ci_000 END ---------------\n",
      "10th Percentile value of column ap_000 : -0.3212142730856814\n",
      "20th Percentile value of column ap_000 : -0.3185806594844594\n",
      "30th Percentile value of column ap_000 : -0.3119733877143347\n",
      "40th Percentile value of column ap_000 : -0.2694450844795145\n",
      "50th Percentile value of column ap_000 : -0.2082797015041634\n",
      "60th Percentile value of column ap_000 : -0.17161252291364476\n",
      "70th Percentile value of column ap_000 : -0.12446673866934652\n",
      "80th Percentile value of column ap_000 : -0.041506803670515874\n",
      "90th Percentile value of column ap_000 : 0.20298132371695757\n",
      "100th Percentile value of column ap_000 : 4.88962472357661\n",
      "----------------Column ap_000 END ---------------\n",
      "10th Percentile value of column cn_001 : -0.08879049327479388\n",
      "20th Percentile value of column cn_001 : -0.08879049327479388\n",
      "30th Percentile value of column cn_001 : -0.08879049327479388\n",
      "40th Percentile value of column cn_001 : -0.08879049327479388\n",
      "50th Percentile value of column cn_001 : -0.08879049327479388\n",
      "60th Percentile value of column cn_001 : -0.08879049327479388\n",
      "70th Percentile value of column cn_001 : -0.08879049327479388\n",
      "80th Percentile value of column cn_001 : -0.08879049327479388\n",
      "90th Percentile value of column cn_001 : -0.08205146395283505\n",
      "100th Percentile value of column cn_001 : 1.8861336458578524\n",
      "----------------Column cn_001 END ---------------\n",
      "10th Percentile value of column ee_006 : -0.31064288755452263\n",
      "20th Percentile value of column ee_006 : -0.3105488545703816\n",
      "30th Percentile value of column ee_006 : -0.30895593581903286\n",
      "40th Percentile value of column ee_006 : -0.2992272832798038\n",
      "50th Percentile value of column ee_006 : -0.2237376036113997\n",
      "60th Percentile value of column ee_006 : -0.1477202108359962\n",
      "70th Percentile value of column ee_006 : -0.09120939642274077\n",
      "80th Percentile value of column ee_006 : -0.0009791061603916069\n",
      "90th Percentile value of column ee_006 : 0.26306983882483936\n",
      "100th Percentile value of column ee_006 : 4.3017011633448865\n",
      "----------------Column ee_006 END ---------------\n",
      "10th Percentile value of column an_000 : -0.4427608837961114\n",
      "20th Percentile value of column an_000 : -0.438868117693785\n",
      "30th Percentile value of column an_000 : -0.4303648158525458\n",
      "40th Percentile value of column an_000 : -0.3587232307627656\n",
      "50th Percentile value of column an_000 : -0.19688785479948112\n",
      "60th Percentile value of column an_000 : -0.14725034513206148\n",
      "70th Percentile value of column an_000 : -0.09721108678763131\n",
      "80th Percentile value of column an_000 : 0.0279758706145501\n",
      "90th Percentile value of column an_000 : 0.41735302124067397\n",
      "100th Percentile value of column an_000 : 5.36448147131257\n",
      "----------------Column an_000 END ---------------\n",
      "10th Percentile value of column ao_000 : -0.4388363705636256\n",
      "20th Percentile value of column ao_000 : -0.43494827406501074\n",
      "30th Percentile value of column ao_000 : -0.4258514242216618\n",
      "40th Percentile value of column ao_000 : -0.3539612869910947\n",
      "50th Percentile value of column ao_000 : -0.19824653912091078\n",
      "60th Percentile value of column ao_000 : -0.14812734955341772\n",
      "70th Percentile value of column ao_000 : -0.09868985206228077\n",
      "80th Percentile value of column ao_000 : 0.02625634352120773\n",
      "90th Percentile value of column ao_000 : 0.4198883740073929\n",
      "100th Percentile value of column ao_000 : 5.3092538938095215\n",
      "----------------Column ao_000 END ---------------\n",
      "10th Percentile value of column bb_000 : -0.41341292050461587\n",
      "20th Percentile value of column bb_000 : -0.4092000998512446\n",
      "30th Percentile value of column bb_000 : -0.4020876848414522\n",
      "40th Percentile value of column bb_000 : -0.34073124741740174\n",
      "50th Percentile value of column bb_000 : -0.19779469128962315\n",
      "60th Percentile value of column bb_000 : -0.15728690551027075\n",
      "70th Percentile value of column bb_000 : -0.10751700832241343\n",
      "80th Percentile value of column bb_000 : 0.0035435292440028653\n",
      "90th Percentile value of column bb_000 : 0.3411511243412503\n",
      "100th Percentile value of column bb_000 : 5.397285370528981\n",
      "----------------Column bb_000 END ---------------\n",
      "10th Percentile value of column ck_000 : -0.3252629737723142\n",
      "20th Percentile value of column ck_000 : -0.32261456996246013\n",
      "30th Percentile value of column ck_000 : -0.31679852546793436\n",
      "40th Percentile value of column ck_000 : -0.2779428069633934\n",
      "50th Percentile value of column ck_000 : -0.2121833967881883\n",
      "60th Percentile value of column ck_000 : -0.17149567216143702\n",
      "70th Percentile value of column ck_000 : -0.11748506119351207\n",
      "80th Percentile value of column ck_000 : -0.02151915728316174\n",
      "90th Percentile value of column ck_000 : 0.25075668868698614\n",
      "100th Percentile value of column ck_000 : 4.509354578108089\n",
      "----------------Column ck_000 END ---------------\n"
     ]
    }
   ],
   "source": [
    "print_percentiles1(train_data, final_cols)"
   ]
  },
  {
   "cell_type": "markdown",
   "metadata": {
    "id": "VWHusnNxisZc"
   },
   "source": [
    "Now we dont have outliers in our dataset."
   ]
  },
  {
   "cell_type": "markdown",
   "metadata": {
    "id": "dXOoAKCmv39n"
   },
   "source": [
    "## EDA"
   ]
  },
  {
   "cell_type": "markdown",
   "metadata": {
    "id": "uPgHDkTJroLs"
   },
   "source": [
    "Now we have 18 columns which got determined by phi_k correlation. We can do univariate analysis with these columns."
   ]
  },
  {
   "cell_type": "markdown",
   "metadata": {
    "id": "pGtqpMwILG6r"
   },
   "source": [
    "**Box-plot**"
   ]
  },
  {
   "cell_type": "code",
   "execution_count": null,
   "metadata": {
    "colab": {
     "base_uri": "https://localhost:8080/",
     "height": 1000
    },
    "id": "VpSb5NhJv39o",
    "outputId": "d51a8e77-7c9a-4013-be34-3ca5edaf8043"
   },
   "outputs": [
    {
     "data": {
      "image/png": "[encoded data removed]",
      "text/plain": [
       "<Figure size 432x288 with 1 Axes>"
      ]
     },
     "metadata": {
      "tags": []
     },
     "output_type": "display_data"
    },
    {
     "data": {
      "image/png": "[encoded data removed]",
      "text/plain": [
       "<Figure size 432x288 with 1 Axes>"
      ]
     },
     "metadata": {
      "tags": []
     },
     "output_type": "display_data"
    },
    {
     "data": {
      "image/png": "[encoded data removed]",
      "text/plain": [
       "<Figure size 432x288 with 1 Axes>"
      ]
     },
     "metadata": {
      "tags": []
     },
     "output_type": "display_data"
    },
    {
     "data": {
      "image/png": "[encoded data removed]",
      "text/plain": [
       "<Figure size 432x288 with 1 Axes>"
      ]
     },
     "metadata": {
      "tags": []
     },
     "output_type": "display_data"
    },
    {
     "data": {
      "image/png": "[encoded data removed]",
      "text/plain": [
       "<Figure size 432x288 with 1 Axes>"
      ]
     },
     "metadata": {
      "tags": []
     },
     "output_type": "display_data"
    },
    {
     "data": {
      "image/png": "[encoded data removed]",
      "text/plain": [
       "<Figure size 432x288 with 1 Axes>"
      ]
     },
     "metadata": {
      "tags": []
     },
     "output_type": "display_data"
    },
    {
     "data": {
      "image/png": "[encoded data removed]",
      "text/plain": [
       "<Figure size 432x288 with 1 Axes>"
      ]
     },
     "metadata": {
      "tags": []
     },
     "output_type": "display_data"
    },
    {
     "data": {
      "image/png": "[encoded data removed]",
      "text/plain": [
       "<Figure size 432x288 with 1 Axes>"
      ]
     },
     "metadata": {
      "tags": []
     },
     "output_type": "display_data"
    },
    {
     "data": {
      "image/png": "[encoded data removed]",
      "text/plain": [
       "<Figure size 432x288 with 1 Axes>"
      ]
     },
     "metadata": {
      "tags": []
     },
     "output_type": "display_data"
    },
    {
     "data": {
      "image/png": "[encoded data removed]",
      "text/plain": [
       "<Figure size 432x288 with 1 Axes>"
      ]
     },
     "metadata": {
      "tags": []
     },
     "output_type": "display_data"
    },
    {
     "data": {
      "image/png": "[encoded data removed]",
      "text/plain": [
       "<Figure size 432x288 with 1 Axes>"
      ]
     },
     "metadata": {
      "tags": []
     },
     "output_type": "display_data"
    },
    {
     "data": {
      "image/png": "[encoded data removed]",
      "text/plain": [
       "<Figure size 432x288 with 1 Axes>"
      ]
     },
     "metadata": {
      "tags": []
     },
     "output_type": "display_data"
    },
    {
     "data": {
      "image/png": "[encoded data removed]",
      "text/plain": [
       "<Figure size 432x288 with 1 Axes>"
      ]
     },
     "metadata": {
      "tags": []
     },
     "output_type": "display_data"
    },
    {
     "data": {
      "image/png": "[encoded data removed]",
      "text/plain": [
       "<Figure size 432x288 with 1 Axes>"
      ]
     },
     "metadata": {
      "tags": []
     },
     "output_type": "display_data"
    },
    {
     "data": {
      "image/png": "[encoded data removed]",
      "text/plain": [
       "<Figure size 432x288 with 1 Axes>"
      ]
     },
     "metadata": {
      "tags": []
     },
     "output_type": "display_data"
    },
    {
     "data": {
      "image/png": "[encoded data removed]",
      "text/plain": [
       "<Figure size 432x288 with 1 Axes>"
      ]
     },
     "metadata": {
      "tags": []
     },
     "output_type": "display_data"
    },
    {
     "data": {
      "image/png": "[encoded data removed]",
      "text/plain": [
       "<Figure size 432x288 with 1 Axes>"
      ]
     },
     "metadata": {
      "tags": []
     },
     "output_type": "display_data"
    },
    {
     "data": {
      "image/png": "[encoded data removed]",
      "text/plain": [
       "<Figure size 432x288 with 1 Axes>"
      ]
     },
     "metadata": {
      "tags": []
     },
     "output_type": "display_data"
    }
   ],
   "source": [
    "for col in final_cols:\n",
    "    sns.boxplot(data = train_data, x= \"class\", y= col)\n",
    "    plt.title(\"Box plot of train set with class and {}\".format(col))\n",
    "    plt.show()"
   ]
  },
  {
   "cell_type": "markdown",
   "metadata": {
    "id": "Po3ILq5fKz2U"
   },
   "source": [
    "We can see from the above box-plots, each of these important features (high correlation with class label) can easily separate both classes."
   ]
  },
  {
   "cell_type": "markdown",
   "metadata": {
    "id": "wcdo78EALOxr"
   },
   "source": [
    "**t-SNE**"
   ]
  },
  {
   "cell_type": "markdown",
   "metadata": {
    "id": "mnUsqkwlEezB"
   },
   "source": [
    "EDA with tSNE to check whether the data points are separable in space or not."
   ]
  },
  {
   "cell_type": "code",
   "execution_count": null,
   "metadata": {
    "colab": {
     "base_uri": "https://localhost:8080/",
     "height": 510
    },
    "id": "Lq5YcXqNv39p",
    "outputId": "ef911e99-e79b-4df4-efd1-9363e858610a"
   },
   "outputs": [
    {
     "data": {
      "image/png": "[encoded data removed]",
      "text/plain": [
       "<Figure size 481.875x432 with 1 Axes>"
      ]
     },
     "metadata": {
      "tags": []
     },
     "output_type": "display_data"
    }
   ],
   "source": [
    "tsne = TSNE(n_components=2, random_state=0, perplexity=50)\n",
    "tsne_data = tsne.fit_transform(train_data.loc[:, final_cols]) \n",
    "\n",
    "# creating a new data fram which help us in ploting the result data\n",
    "tsne_data = np.vstack((tsne_data.T, train_data['class'].values)).T\n",
    "tsne_df = pd.DataFrame(data=tsne_data, columns=(\"Dim_1\", \"Dim_2\", \"class\"))\n",
    "\n",
    "# Ploting the result of tsne\n",
    "sns.FacetGrid(tsne_df, hue=\"class\", size=6).map(plt.scatter, 'Dim_1', 'Dim_2').add_legend()\n",
    "plt.title('TSNE Plot')\n",
    "plt.show()"
   ]
  },
  {
   "cell_type": "markdown",
   "metadata": {
    "id": "gnhq6stfLkCI"
   },
   "source": [
    "With the help of tSNE, we have ploted the data points in 2D to check whether the features useful in separating the classes or not. As we can see, due to class imbalance there are very few points for class-1 (orange colors) and all the class-0 points (blue points) are surrounding class-1 and even they all are overlapped. So with tSNE, we can conclude that by combining the existing features its difficult to separate the classes.\n",
    "\n",
    "But after dealing with imbalance of dataset, it would be easy to separate as in box-plot, we have already seen that classes are getting separated for each feature values."
   ]
  },
  {
   "cell_type": "markdown",
   "metadata": {
    "id": "dR1fAs6c7VDn"
   },
   "source": [
    "## Models"
   ]
  },
  {
   "cell_type": "markdown",
   "metadata": {
    "id": "mZM5exev7Ywu"
   },
   "source": [
    "We have numerical 169 dimensional data and its a classification problem. We can try out logistic regression, SVM, kernel SVM,random forest and XGBoost classifier with hyper-parameter tunning using GridSearchCV."
   ]
  },
  {
   "cell_type": "markdown",
   "metadata": {
    "id": "HjObvgUB84DV"
   },
   "source": [
    "**Metrics:**\n",
    "\n",
    "Here we can use recall to get best hyper-parameters as we are concerned about TPR, FPR values. In addition to confusion, precision and recall matrix, we can use F1-score and log-loss for model evaluation "
   ]
  },
  {
   "cell_type": "code",
   "execution_count": null,
   "metadata": {
    "id": "V4ZdY-WE2MnA"
   },
   "outputs": [],
   "source": [
    "# Save dataframe to pickle\n",
    "train_data.to_pickle(\"./train_data.pkl\")\n",
    "test_data.to_pickle(\"./test_data.pkl\")"
   ]
  },
  {
   "cell_type": "code",
   "execution_count": 3,
   "metadata": {
    "colab": {
     "base_uri": "https://localhost:8080/"
    },
    "id": "Xi7WOA7W2n4o",
    "outputId": "37a38695-bd14-420d-9411-76b9231bcd85"
   },
   "outputs": [
    {
     "name": "stdout",
     "output_type": "stream",
     "text": [
      "(60000, 170)\n",
      "(16000, 170)\n"
     ]
    }
   ],
   "source": [
    "# Load dataframe from pickle\n",
    "train_data = pd.read_pickle(\"./train_data.pkl\")\n",
    "test_data = pd.read_pickle(\"./test_data.pkl\")\n",
    "\n",
    "print(train_data.shape)\n",
    "print(test_data.shape)"
   ]
  },
  {
   "cell_type": "code",
   "execution_count": 4,
   "metadata": {
    "colab": {
     "base_uri": "https://localhost:8080/"
    },
    "id": "J3WKROP5-dpD",
    "outputId": "9ceada6f-d331-4bda-a10e-7da48ef4bb4e"
   },
   "outputs": [
    {
     "name": "stdout",
     "output_type": "stream",
     "text": [
      "(60000, 169)\n",
      "(16000, 169)\n",
      "(60000,)\n",
      "(16000,)\n"
     ]
    }
   ],
   "source": [
    "# Separate X and y values from train and test data\n",
    "X_train = train_data.iloc[:, :-1].astype('float64')\n",
    "X_test = test_data.iloc[:, :-1].astype('float64')\n",
    "y_train = train_data.iloc[:, -1].astype('int64')\n",
    "y_test = test_data.iloc[:, -1].astype('int64')\n",
    "\n",
    "print(X_train.shape)\n",
    "print(X_test.shape)\n",
    "print(y_train.shape)\n",
    "print(y_test.shape)"
   ]
  },
  {
   "cell_type": "markdown",
   "metadata": {
    "id": "DHACGkkdCMBa"
   },
   "source": [
    "#### Confusion Matrix"
   ]
  },
  {
   "cell_type": "code",
   "execution_count": 5,
   "metadata": {
    "id": "w8c0SNsEB0Am"
   },
   "outputs": [],
   "source": [
    "def plot_confusion_matrix(test_y, predict_y):\n",
    "    C = confusion_matrix(test_y, predict_y)\n",
    "    print(\"Number of misclassified points {}%\".format(round(((len(test_y)-np.trace(C))/len(test_y)*100),2)))\n",
    "    fp = (int)(C[0][1])\n",
    "    fn = (int)(C[1][0])\n",
    "    print('Number of False Positives: ', fp)\n",
    "    print('Number of False Negatives: ', fn)\n",
    "    cost = (10 * fp) + (500 * fn)\n",
    "    print('Total Cost (cost1+cost2): ', cost)\n",
    "    \n",
    "    A =(((C.T)/(C.sum(axis=1))).T)\n",
    "    \n",
    "    B =(C/C.sum(axis=0))\n",
    "    plt.figure(figsize=(20,4))\n",
    "    \n",
    "    labels = [0,1]\n",
    "    # representing A in heatmap format\n",
    "    cmap=sns.light_palette(\"blue\")\n",
    "    plt.subplot(1, 3, 1)\n",
    "    sns.heatmap(C, annot=True, cmap=cmap, fmt=\".3f\", xticklabels=labels, yticklabels=labels)\n",
    "    plt.xlabel('Predicted Class')\n",
    "    plt.ylabel('Original Class')\n",
    "    plt.title(\"Confusion matrix\")\n",
    "    \n",
    "    plt.subplot(1, 3, 2)\n",
    "    sns.heatmap(B, annot=True, cmap=cmap, fmt=\".3f\", xticklabels=labels, yticklabels=labels)\n",
    "    plt.xlabel('Predicted Class')\n",
    "    plt.ylabel('Original Class')\n",
    "    plt.title(\"Precision matrix\")\n",
    "    \n",
    "    plt.subplot(1, 3, 3)\n",
    "    # representing B in heatmap format\n",
    "    sns.heatmap(A, annot=True, cmap=cmap, fmt=\".3f\", xticklabels=labels, yticklabels=labels)\n",
    "    plt.xlabel('Predicted Class')\n",
    "    plt.ylabel('Original Class')\n",
    "    plt.title(\"Recall matrix\")\n",
    "    \n",
    "    plt.show()"
   ]
  },
  {
   "cell_type": "markdown",
   "metadata": {
    "id": "3A0ZN981_hhJ"
   },
   "source": [
    "### Logistic Regression"
   ]
  },
  {
   "cell_type": "code",
   "execution_count": 6,
   "metadata": {
    "colab": {
     "base_uri": "https://localhost:8080/"
    },
    "id": "vlWKx3S887Y6",
    "outputId": "6bedbf9a-5c91-4c94-dcfa-689e1c5b07c2"
   },
   "outputs": [
    {
     "name": "stdout",
     "output_type": "stream",
     "text": [
      "{'C': 10}\n"
     ]
    }
   ],
   "source": [
    "clf = LogisticRegression(penalty='l2',class_weight='balanced', solver='liblinear', max_iter= 1000)\n",
    "values = [10 ** x for x in range(-5, 4)]\n",
    "parameters = {'C' : values}\n",
    "grid_clf = GridSearchCV(clf, parameters, cv=3, scoring='f1_micro')\n",
    "grid_clf.fit(X_train, y_train)\n",
    "\n",
    "print(grid_clf.best_params_)"
   ]
  },
  {
   "cell_type": "markdown",
   "metadata": {
    "id": "Ys_hAqhOOdhU"
   },
   "source": [
    "Best value for hyper-parameter 'C' is 10 for logistic regression."
   ]
  },
  {
   "cell_type": "code",
   "execution_count": 7,
   "metadata": {
    "id": "SaorXbcsNhZs"
   },
   "outputs": [],
   "source": [
    "c= grid_clf.best_params_.get('C')"
   ]
  },
  {
   "cell_type": "code",
   "execution_count": 8,
   "metadata": {
    "colab": {
     "base_uri": "https://localhost:8080/",
     "height": 793
    },
    "id": "ayr35upEC1Bq",
    "outputId": "e6851a36-5833-4148-e2ac-85a89bb709bb"
   },
   "outputs": [
    {
     "name": "stdout",
     "output_type": "stream",
     "text": [
      "-------------------------------------------------- Train set --------------------------------------------------\n",
      "Log-loss:  0.31603212284598126\n",
      "Micro F1-score:  0.99085\n",
      "Number of misclassified points 0.92%\n",
      "Number of False Positives:  174\n",
      "Number of False Negatives:  375\n",
      "Total Cost (cost1+cost2):  189240\n"
     ]
    },
    {
     "data": {
      "image/png": "[encoded data removed]",
      "text/plain": [
       "<Figure size 1440x288 with 6 Axes>"
      ]
     },
     "metadata": {
      "needs_background": "light"
     },
     "output_type": "display_data"
    },
    {
     "name": "stdout",
     "output_type": "stream",
     "text": [
      "-------------------------------------------------- Test set --------------------------------------------------\n",
      "Log-loss:  0.8742798688912479\n",
      "Micro F1-score:  0.9746875\n",
      "Number of misclassified points 2.53%\n",
      "Number of False Positives:  342\n",
      "Number of False Negatives:  63\n",
      "Total Cost (cost1+cost2):  34920\n"
     ]
    },
    {
     "data": {
      "image/png": "[encoded data removed]",
      "text/plain": [
       "<Figure size 1440x288 with 6 Axes>"
      ]
     },
     "metadata": {
      "needs_background": "light"
     },
     "output_type": "display_data"
    }
   ],
   "source": [
    "log_clf = LogisticRegression(penalty='l2',class_weight='balanced', C = c, solver='liblinear', max_iter= 1000)\n",
    "log_clf.fit(X_train, y_train)\n",
    "log_clf_cal = CalibratedClassifierCV(log_clf, method=\"sigmoid\")\n",
    "log_clf_cal.fit(X_train, y_train)\n",
    "pred_y_train = log_clf_cal.predict(X_train)\n",
    "pred_y_test = log_clf_cal.predict(X_test)\n",
    "pickle.dump(log_clf_cal, open(\"lr.sav\", 'wb'))\n",
    "\n",
    "print(\"-\"*50, \"Train set\", \"-\"*50)\n",
    "print('Log-loss: ', log_loss(y_train, pred_y_train, labels=log_clf.classes_, eps=1e-15))\n",
    "print('Micro F1-score: ', f1_score(y_train, pred_y_train, average='micro'))\n",
    "plot_confusion_matrix(y_train, pred_y_train)\n",
    "print(\"-\"*50, \"Test set\", \"-\"*50)\n",
    "print('Log-loss: ', log_loss(y_test, pred_y_test, labels=log_clf.classes_, eps=1e-15))\n",
    "print('Micro F1-score: ', f1_score(y_test, pred_y_test, average='micro'))\n",
    "plot_confusion_matrix(y_test, pred_y_test)"
   ]
  },
  {
   "cell_type": "markdown",
   "metadata": {
    "id": "Jr25DjgBZ_JR"
   },
   "source": [
    "### SVC"
   ]
  },
  {
   "cell_type": "code",
   "execution_count": null,
   "metadata": {
    "colab": {
     "base_uri": "https://localhost:8080/"
    },
    "id": "Na-nxC7GObTy",
    "outputId": "dbf095ad-0c24-4ee2-ce73-c352abfd051a"
   },
   "outputs": [
    {
     "name": "stdout",
     "output_type": "stream",
     "text": [
      "{'C': 10}\n"
     ]
    }
   ],
   "source": [
    "clf = SVC(class_weight='balanced')\n",
    "values = [10 ** x for x in range(-5, 4)]\n",
    "parameters = {'C' : values}\n",
    "grid_clf = GridSearchCV(clf, parameters, cv=3, scoring='f1_micro')\n",
    "grid_clf.fit(X_train, y_train)\n",
    "\n",
    "print(grid_clf.best_params_)"
   ]
  },
  {
   "cell_type": "markdown",
   "metadata": {
    "id": "jXnY1J_OHSvF"
   },
   "source": [
    "Best value for hyper-parameter 'C' is 10 for svc."
   ]
  },
  {
   "cell_type": "code",
   "execution_count": null,
   "metadata": {
    "id": "zdQEGog8NvkY"
   },
   "outputs": [],
   "source": [
    "c= grid_clf.best_params_.get('C')"
   ]
  },
  {
   "cell_type": "code",
   "execution_count": null,
   "metadata": {
    "colab": {
     "base_uri": "https://localhost:8080/",
     "height": 793
    },
    "id": "S_qyI549aMGH",
    "outputId": "ca045276-fd26-4333-b788-f12894bc347a"
   },
   "outputs": [
    {
     "name": "stdout",
     "output_type": "stream",
     "text": [
      "-------------------------------------------------- Train set --------------------------------------------------\n",
      "Log-loss:  0.006907808585478481\n",
      "Micro F1-score:  0.9998\n",
      "Number of misclassified points 0.02%\n",
      "Number of False Positives:  4\n",
      "Number of False Negatives:  8\n",
      "Total Cost (cost1+cost2):  4040\n"
     ]
    },
    {
     "data": {
      "image/png": "[encoded data removed]",
      "text/plain": [
       "<Figure size 1440x288 with 6 Axes>"
      ]
     },
     "metadata": {
      "needs_background": "light",
      "tags": []
     },
     "output_type": "display_data"
    },
    {
     "name": "stdout",
     "output_type": "stream",
     "text": [
      "-------------------------------------------------- Test set --------------------------------------------------\n",
      "Log-loss:  0.7361079717655712\n",
      "Micro F1-score:  0.9786875\n",
      "Number of misclassified points 2.13%\n",
      "Number of False Positives:  6\n",
      "Number of False Negatives:  335\n",
      "Total Cost (cost1+cost2):  167560\n"
     ]
    },
    {
     "data": {
      "image/png": "[encoded data removed]",
      "text/plain": [
       "<Figure size 1440x288 with 6 Axes>"
      ]
     },
     "metadata": {
      "needs_background": "light",
      "tags": []
     },
     "output_type": "display_data"
    }
   ],
   "source": [
    "svc_clf = SVC(class_weight='balanced', C = c)\n",
    "svc_clf.fit(X_train, y_train)\n",
    "svc_clf_cal = CalibratedClassifierCV(svc_clf, method=\"sigmoid\")\n",
    "svc_clf_cal.fit(X_train, y_train)\n",
    "pred_y_train = svc_clf_cal.predict(X_train)\n",
    "pred_y_test = svc_clf_cal.predict(X_test)\n",
    "pickle.dump(svc_clf_cal, open(\"svc.sav\", 'wb'))\n",
    "\n",
    "print(\"-\"*50, \"Train set\", \"-\"*50)\n",
    "print('Log-loss: ', log_loss(y_train, pred_y_train, labels=svc_clf.classes_, eps=1e-15))\n",
    "print('Micro F1-score: ', f1_score(y_train, pred_y_train, average='micro'))\n",
    "plot_confusion_matrix(y_train, pred_y_train)\n",
    "print(\"-\"*50, \"Test set\", \"-\"*50)\n",
    "print('Log-loss: ', log_loss(y_test, pred_y_test, labels=svc_clf.classes_, eps=1e-15))\n",
    "print('Micro F1-score: ', f1_score(y_test, pred_y_test, average='micro'))\n",
    "plot_confusion_matrix(y_test, pred_y_test)"
   ]
  },
  {
   "cell_type": "markdown",
   "metadata": {
    "id": "wxCW_8kXQW8_"
   },
   "source": [
    "### Kernel SVC"
   ]
  },
  {
   "cell_type": "code",
   "execution_count": null,
   "metadata": {
    "colab": {
     "base_uri": "https://localhost:8080/"
    },
    "id": "Czxg5ovDPzqd",
    "outputId": "a7473279-8c0d-4c4d-ebf6-574ef024233e"
   },
   "outputs": [
    {
     "name": "stdout",
     "output_type": "stream",
     "text": [
      "{'C': 10}\n"
     ]
    }
   ],
   "source": [
    "clf = SVC(class_weight='balanced', kernel = 'rbf')\n",
    "c_values = [10 ** x for x in range(-5, 4)]\n",
    "parameters = {'C' : c_values}\n",
    "grid_clf = GridSearchCV(clf, parameters, cv=3, scoring='f1_micro')\n",
    "grid_clf.fit(X_train, y_train)\n",
    "\n",
    "print(grid_clf.best_params_)"
   ]
  },
  {
   "cell_type": "code",
   "execution_count": null,
   "metadata": {
    "id": "gBYGjf7JQzkF"
   },
   "outputs": [],
   "source": [
    "c= grid_clf.best_params_.get('C')"
   ]
  },
  {
   "cell_type": "code",
   "execution_count": 6,
   "metadata": {
    "id": "JIXTe5qqQUnb"
   },
   "outputs": [
    {
     "name": "stdout",
     "output_type": "stream",
     "text": [
      "{'gamma': 0.01}\n"
     ]
    }
   ],
   "source": [
    "clf = SVC(class_weight='balanced', C = c, kernel = 'rbf')\n",
    "gamma_values = [10 ** x for x in range(-3, 3)]\n",
    "parameters = {'gamma' : gamma_values}\n",
    "grid_clf = GridSearchCV(clf, parameters, cv=3, scoring='f1_micro')\n",
    "grid_clf.fit(X_train, y_train)\n",
    "\n",
    "print(grid_clf.best_params_)"
   ]
  },
  {
   "cell_type": "code",
   "execution_count": 7,
   "metadata": {
    "id": "rb-qOF9BQnge"
   },
   "outputs": [],
   "source": [
    "gamma= grid_clf.best_params_.get('gamma')"
   ]
  },
  {
   "cell_type": "markdown",
   "metadata": {
    "id": "KI8j0MoUf0_4"
   },
   "source": [
    "Best value for hyper-parameter 'C' and 'gamma' are 10 and 0.01 for kernel svc."
   ]
  },
  {
   "cell_type": "code",
   "execution_count": 8,
   "metadata": {
    "colab": {
     "base_uri": "https://localhost:8080/",
     "height": 821
    },
    "id": "BmuHQhFWQ6K0",
    "outputId": "57f2f89e-3db6-4c3e-bd34-24130acfc646"
   },
   "outputs": [
    {
     "name": "stdout",
     "output_type": "stream",
     "text": [
      "-------------------------------------------------- Train set --------------------------------------------------\n",
      "Log-loss:  0.01496704298369135\n",
      "Micro F1-score:  0.9995666666666667\n",
      "Number of misclassified points 0.04%\n",
      "Number of False Positives:  18\n",
      "Number of False Negatives:  8\n",
      "Total Cost (cost1+cost2):  4180\n"
     ]
    },
    {
     "data": {
      "image/png": "[encoded data removed]",
      "text/plain": [
       "<Figure size 1440x288 with 6 Axes>"
      ]
     },
     "metadata": {
      "needs_background": "light"
     },
     "output_type": "display_data"
    },
    {
     "name": "stdout",
     "output_type": "stream",
     "text": [
      "-------------------------------------------------- Test set --------------------------------------------------\n",
      "Log-loss:  0.7231559306174796\n",
      "Micro F1-score:  0.9790625\n",
      "Number of misclassified points 2.09%\n",
      "Number of False Positives:  6\n",
      "Number of False Negatives:  329\n",
      "Total Cost (cost1+cost2):  164560\n"
     ]
    },
    {
     "data": {
      "image/png": "[encoded data removed]",
      "text/plain": [
       "<Figure size 1440x288 with 6 Axes>"
      ]
     },
     "metadata": {
      "needs_background": "light"
     },
     "output_type": "display_data"
    }
   ],
   "source": [
    "svc_clf = SVC(class_weight='balanced', C = 10, gamma = gamma, kernel = 'rbf')\n",
    "svc_clf.fit(X_train, y_train)\n",
    "svc_clf_cal = CalibratedClassifierCV(svc_clf, method=\"sigmoid\")\n",
    "svc_clf_cal.fit(X_train, y_train)\n",
    "pred_y_train = svc_clf_cal.predict(X_train)\n",
    "pred_y_test = svc_clf_cal.predict(X_test)\n",
    "pickle.dump(svc_clf_cal, open(\"ksvc.sav\", 'wb'))\n",
    "\n",
    "print(\"-\"*50, \"Train set\", \"-\"*50)\n",
    "print('Log-loss: ', log_loss(y_train, pred_y_train, labels=svc_clf.classes_, eps=1e-15))\n",
    "print('Micro F1-score: ', f1_score(y_train, pred_y_train, average='micro'))\n",
    "plot_confusion_matrix(y_train, pred_y_train)\n",
    "print(\"-\"*50, \"Test set\", \"-\"*50)\n",
    "print('Log-loss: ', log_loss(y_test, pred_y_test, labels=svc_clf.classes_, eps=1e-15))\n",
    "print('Micro F1-score: ', f1_score(y_test, pred_y_test, average='micro'))\n",
    "plot_confusion_matrix(y_test, pred_y_test)"
   ]
  },
  {
   "cell_type": "markdown",
   "metadata": {
    "id": "lvPeZ_wisuWQ"
   },
   "source": [
    "### Random Forest Classifier"
   ]
  },
  {
   "cell_type": "code",
   "execution_count": 9,
   "metadata": {
    "colab": {
     "base_uri": "https://localhost:8080/"
    },
    "id": "Tgo6kn4L0U5Q",
    "outputId": "6d5b21c5-d2aa-42c4-d2ff-72dc6fe06a4e"
   },
   "outputs": [
    {
     "name": "stdout",
     "output_type": "stream",
     "text": [
      "{'n_estimators': 1000}\n"
     ]
    }
   ],
   "source": [
    "clf = RandomForestClassifier(class_weight='balanced')\n",
    "parameters = {'n_estimators' : [10,50,100,500,1000,2000,3000]}\n",
    "grid_clf = GridSearchCV(clf, parameters, cv=3, scoring='f1_micro')\n",
    "grid_clf.fit(X_train, y_train)\n",
    "\n",
    "print(grid_clf.best_params_)"
   ]
  },
  {
   "cell_type": "code",
   "execution_count": 10,
   "metadata": {
    "id": "BWSgdqeauH7N"
   },
   "outputs": [],
   "source": [
    "n_estimators = grid_clf.best_params_.get('n_estimators')"
   ]
  },
  {
   "cell_type": "code",
   "execution_count": 11,
   "metadata": {
    "colab": {
     "base_uri": "https://localhost:8080/"
    },
    "id": "EwbIKtZi6vQf",
    "outputId": "b7d62be8-ea4f-4290-d163-1d4a90c4c331"
   },
   "outputs": [
    {
     "name": "stdout",
     "output_type": "stream",
     "text": [
      "{'max_depth': 50}\n"
     ]
    }
   ],
   "source": [
    "clf = RandomForestClassifier(class_weight='balanced', n_estimators=1000)\n",
    "parameters = {'max_depth': [1, 5, 10, 50]}\n",
    "grid_clf = GridSearchCV(clf, parameters, cv=3, scoring='f1_micro')\n",
    "grid_clf.fit(X_train, y_train)\n",
    "\n",
    "print(grid_clf.best_params_)"
   ]
  },
  {
   "cell_type": "code",
   "execution_count": 12,
   "metadata": {
    "id": "9_ynntV2BqbZ"
   },
   "outputs": [],
   "source": [
    "max_depth = grid_clf.best_params_.get('max_depth')"
   ]
  },
  {
   "cell_type": "markdown",
   "metadata": {
    "id": "ZEUnFGBPgC1C"
   },
   "source": [
    "Best value for hyper-parameter 'max_depth' and 'n_estimators' are 50 and 1000 for random forest."
   ]
  },
  {
   "cell_type": "code",
   "execution_count": 13,
   "metadata": {
    "colab": {
     "base_uri": "https://localhost:8080/",
     "height": 821
    },
    "id": "cEBqvDM77LRj",
    "outputId": "5b5ac104-06c3-4728-de09-9bedd00d8cc5"
   },
   "outputs": [
    {
     "name": "stdout",
     "output_type": "stream",
     "text": [
      "-------------------------------------------------- Train set --------------------------------------------------\n",
      "Log-loss:  9.99200722162641e-16\n",
      "Micro F1-score:  1.0\n",
      "Number of misclassified points 0.0%\n",
      "Number of False Positives:  0\n",
      "Number of False Negatives:  0\n",
      "Total Cost (cost1+cost2):  0\n"
     ]
    },
    {
     "data": {
      "image/png": "[encoded data removed]",
      "text/plain": [
       "<Figure size 1440x288 with 6 Axes>"
      ]
     },
     "metadata": {
      "needs_background": "light"
     },
     "output_type": "display_data"
    },
    {
     "name": "stdout",
     "output_type": "stream",
     "text": [
      "-------------------------------------------------- Test set --------------------------------------------------\n",
      "Log-loss:  0.3086916633501786\n",
      "Micro F1-score:  0.9910625\n",
      "Number of misclassified points 0.89%\n",
      "Number of False Positives:  27\n",
      "Number of False Negatives:  116\n",
      "Total Cost (cost1+cost2):  58270\n"
     ]
    },
    {
     "data": {
      "image/png": "[encoded data removed]",
      "text/plain": [
       "<Figure size 1440x288 with 6 Axes>"
      ]
     },
     "metadata": {
      "needs_background": "light"
     },
     "output_type": "display_data"
    }
   ],
   "source": [
    "rfc_clf = RandomForestClassifier(class_weight='balanced', max_depth = max_depth, n_estimators = n_estimators)\n",
    "rfc_clf.fit(X_train, y_train)\n",
    "rfc_clf_cal = CalibratedClassifierCV(rfc_clf, method=\"sigmoid\")\n",
    "rfc_clf_cal.fit(X_train, y_train)\n",
    "pred_y_train = rfc_clf_cal.predict(X_train)\n",
    "pred_y_test = rfc_clf_cal.predict(X_test)\n",
    "pickle.dump(rfc_clf_cal, open(\"rfc.sav\", 'wb'))\n",
    "\n",
    "print(\"-\"*50, \"Train set\", \"-\"*50)\n",
    "print('Log-loss: ', log_loss(y_train, pred_y_train, labels=svc_clf.classes_, eps=1e-15))\n",
    "print('Micro F1-score: ', f1_score(y_train, pred_y_train, average='micro'))\n",
    "plot_confusion_matrix(y_train, pred_y_train)\n",
    "print(\"-\"*50, \"Test set\", \"-\"*50)\n",
    "print('Log-loss: ', log_loss(y_test, pred_y_test, labels=svc_clf.classes_, eps=1e-15))\n",
    "print('Micro F1-score: ', f1_score(y_test, pred_y_test, average='micro'))\n",
    "plot_confusion_matrix(y_test, pred_y_test)"
   ]
  },
  {
   "cell_type": "markdown",
   "metadata": {
    "id": "A1S4f96fOKid"
   },
   "source": [
    "### XGBClassifier"
   ]
  },
  {
   "cell_type": "code",
   "execution_count": 14,
   "metadata": {
    "colab": {
     "base_uri": "https://localhost:8080/"
    },
    "id": "P2hm1uoHB6yS",
    "outputId": "012a2a84-83d6-4f02-bfa5-5505a17c87f8"
   },
   "outputs": [
    {
     "name": "stdout",
     "output_type": "stream",
     "text": [
      "{'n_estimators': 2000, 'max_depth': 5}\n"
     ]
    }
   ],
   "source": [
    "clf = XGBClassifier(class_weight='balanced', nthread=-1, verbosity=0)\n",
    "parameters={\n",
    "     'n_estimators':[100,200,500,1000,2000],\n",
    "     'max_depth':[3,5,10],\n",
    "}\n",
    "grid_clf = RandomizedSearchCV(clf, parameters, cv=3, scoring='f1_micro', n_jobs=-1)\n",
    "grid_clf.fit(X_train, y_train)\n",
    "\n",
    "print(grid_clf.best_params_)"
   ]
  },
  {
   "cell_type": "code",
   "execution_count": 15,
   "metadata": {},
   "outputs": [],
   "source": [
    "max_depth = grid_clf.best_params_.get('max_depth')\n",
    "n_estimators = grid_clf.best_params_.get('n_estimators')"
   ]
  },
  {
   "cell_type": "markdown",
   "metadata": {
    "id": "kJV1v4ozgQiu"
   },
   "source": [
    "Best value for hyper-parameter 'max_depth' and 'n_estimators' are 5 and 2000 for xgbclassifier."
   ]
  },
  {
   "cell_type": "code",
   "execution_count": 18,
   "metadata": {
    "colab": {
     "base_uri": "https://localhost:8080/",
     "height": 821
    },
    "id": "BNomhClrPSnn",
    "outputId": "376c9a2a-eea3-4188-b6f7-dd6830b72f57"
   },
   "outputs": [
    {
     "name": "stdout",
     "output_type": "stream",
     "text": [
      "-------------------------------------------------- Train set --------------------------------------------------\n",
      "Log-loss:  9.99200722162641e-16\n",
      "Micro F1-score:  1.0\n",
      "Number of misclassified points 0.0%\n",
      "Number of False Positives:  0\n",
      "Number of False Negatives:  0\n",
      "Total Cost (cost1+cost2):  0\n"
     ]
    },
    {
     "data": {
      "image/png": "[encoded data removed]",
      "text/plain": [
       "<Figure size 1440x288 with 6 Axes>"
      ]
     },
     "metadata": {
      "needs_background": "light"
     },
     "output_type": "display_data"
    },
    {
     "name": "stdout",
     "output_type": "stream",
     "text": [
      "-------------------------------------------------- Test set --------------------------------------------------\n",
      "Log-loss:  0.22018514929111102\n",
      "Micro F1-score:  0.993625\n",
      "Number of misclassified points 0.64%\n",
      "Number of False Positives:  9\n",
      "Number of False Negatives:  93\n",
      "Total Cost (cost1+cost2):  46590\n"
     ]
    },
    {
     "data": {
      "image/png": "[encoded data removed]",
      "text/plain": [
       "<Figure size 1440x288 with 6 Axes>"
      ]
     },
     "metadata": {
      "needs_background": "light"
     },
     "output_type": "display_data"
    }
   ],
   "source": [
    "xgbc_clf = XGBClassifier(class_weight='balanced', max_depth = max_depth, n_estimators = n_estimators, nthread=-1, verbosity=0)\n",
    "xgbc_clf.fit(X_train, y_train)\n",
    "xgbc_clf_cal = CalibratedClassifierCV(xgbc_clf, method=\"sigmoid\")\n",
    "xgbc_clf_cal.fit(X_train, y_train)\n",
    "pred_y_train = xgbc_clf_cal.predict(X_train)\n",
    "pred_y_test = xgbc_clf_cal.predict(X_test)\n",
    "pickle.dump(xgbc_clf_cal, open(\"xgbc.sav\", 'wb'))\n",
    "\n",
    "print(\"-\"*50, \"Train set\", \"-\"*50)\n",
    "print('Log-loss: ', log_loss(y_train, pred_y_train, labels=svc_clf.classes_, eps=1e-15))\n",
    "print('Micro F1-score: ', f1_score(y_train, pred_y_train, average='micro'))\n",
    "plot_confusion_matrix(y_train, pred_y_train)\n",
    "print(\"-\"*50, \"Test set\", \"-\"*50)\n",
    "print('Log-loss: ', log_loss(y_test, pred_y_test, labels=svc_clf.classes_, eps=1e-15))\n",
    "print('Micro F1-score: ', f1_score(y_test, pred_y_test, average='micro'))\n",
    "plot_confusion_matrix(y_test, pred_y_test)"
   ]
  },
  {
   "cell_type": "markdown",
   "metadata": {
    "id": "cZDrHCpDoFfG"
   },
   "source": [
    "For F1-score and log-loss, RandomForest and XGBoost performer better than others.\n",
    "\n",
    "But if we consider cost (primary objective is to minimize the cost), SVC didnt perform well. XGBoost and RandomForest performed better than SVC. But logistic regression performed better then others giving lowest cost."
   ]
  },
  {
   "cell_type": "markdown",
   "metadata": {
    "id": "mndhaEj53IZw"
   },
   "source": [
    "### Custom stacking model"
   ]
  },
  {
   "cell_type": "code",
   "execution_count": 10,
   "metadata": {
    "colab": {
     "base_uri": "https://localhost:8080/"
    },
    "id": "o_-mfWw5Jw9t",
    "outputId": "2dfe459d-be62-4c21-d84c-ce923a76400d"
   },
   "outputs": [
    {
     "name": "stdout",
     "output_type": "stream",
     "text": [
      "(60000, 170)\n",
      "(60000, 170)\n"
     ]
    }
   ],
   "source": [
    "# Load dataframe from pickle\n",
    "train_data = pd.read_pickle(\"./train_data.pkl\")\n",
    "test_data = pd.read_pickle(\"./test_data.pkl\")\n",
    "\n",
    "print(train_data.shape)\n",
    "print(train_data.shape)"
   ]
  },
  {
   "cell_type": "code",
   "execution_count": 11,
   "metadata": {
    "colab": {
     "base_uri": "https://localhost:8080/"
    },
    "id": "xHeihSfJgpEg",
    "outputId": "998b34d6-e819-4d74-fd5a-a34737b54b22"
   },
   "outputs": [
    {
     "name": "stdout",
     "output_type": "stream",
     "text": [
      "(30000, 170)\n",
      "(30000, 170)\n"
     ]
    }
   ],
   "source": [
    "# Spliting data to train base models and meta model of stacking model\n",
    "D1, D2 = train_test_split(train_data, test_size=0.5, stratify = train_data['class'])\n",
    "\n",
    "print(D1.shape)\n",
    "print(D2.shape)"
   ]
  },
  {
   "cell_type": "markdown",
   "metadata": {
    "id": "EQK92tmu5eW1"
   },
   "source": [
    "We can choose 3 base models as logistic regression, random forest classifier, XGBClassifier as these classifers gave less cost. We can use Decision Tree as a meta classifier."
   ]
  },
  {
   "cell_type": "markdown",
   "metadata": {
    "id": "6V-LuHpv6_rb"
   },
   "source": [
    "**Train base models**"
   ]
  },
  {
   "cell_type": "code",
   "execution_count": 12,
   "metadata": {
    "id": "rvQaWjAz5UUU"
   },
   "outputs": [],
   "source": [
    "def train_model(clf, filename, df, params= dict()):\n",
    "    \"\"\"This function takes model, X_train and y_train as input.\n",
    "    It fits the model with hyper-tunning and calibration and save it in pickle\n",
    "    \"\"\"\n",
    "    X_train = df.iloc[:, :-1]\n",
    "    y_train = df.iloc[:,-1].astype('int64')\n",
    "    modelName = filename.split(\".\")[0]\n",
    "            \n",
    "    if (len(params.keys())) > 1:\n",
    "        print(\"Training model \" + modelName + \" with Randomized search.\")\n",
    "        cv_clf = RandomizedSearchCV(clf, params, cv=3, scoring='f1_micro', n_jobs=-1)\n",
    "    else:\n",
    "        print(\"Training model \" + modelName + \" with Grid search.\")\n",
    "        cv_clf = GridSearchCV(clf, params, cv=3, scoring='f1_micro', n_jobs=-1)  \n",
    "        \n",
    "    cv_clf.fit(X_train, y_train)\n",
    "        \n",
    "    best_params = cv_clf.best_params_\n",
    "    print('Best params for model: ', best_params)\n",
    "    clf.set_params(**cv_clf.best_params_)  \n",
    "    clf.fit(X_train, y_train)\n",
    "    clf_cal = CalibratedClassifierCV(clf, method=\"sigmoid\")\n",
    "    clf_cal.fit(X_train, y_train)\n",
    "    pickle.dump(clf_cal, open(filename, 'wb'))\n",
    "    print(\"Saved model: \" + filename)"
   ]
  },
  {
   "cell_type": "code",
   "execution_count": 13,
   "metadata": {
    "id": "wZMlxJu_irGT"
   },
   "outputs": [],
   "source": [
    "def predict_base_models(filenames, X_input):\n",
    "    y_preds = dict()\n",
    "    for filename in filenames:\n",
    "        modelName = filename.split(\".\")[0]\n",
    "        clf = pickle.load(open(filename, 'rb'))\n",
    "        y_pred = clf.predict_proba(X_input)\n",
    "        y_preds[modelName] = y_pred[:, 1]\n",
    "\n",
    "    x_df = pd.DataFrame.from_dict(y_preds)\n",
    "    x_df.reset_index(inplace= True)\n",
    "    x_df.drop('index', axis=1, inplace=True)\n",
    "    print(\"Y_preds df shape: \", x_df.shape)\n",
    "    return x_df  "
   ]
  },
  {
   "cell_type": "code",
   "execution_count": 14,
   "metadata": {
    "id": "R0EVUKmdcME_"
   },
   "outputs": [],
   "source": [
    "def trainStackingModel(classifiers, k, D1, D2, test_data):\n",
    "    \"\"\"This function takes models with parameters and dataframes to train and test  as input.\n",
    "    It trains all base models and using them, it trains the meta model and finally use them to predict the testset data\n",
    "    \"\"\"\n",
    "    # get base and meta model input \n",
    "    base_models = classifiers[:-1]\n",
    "    meta_model = classifiers[-1]\n",
    "    y_preds = list()\n",
    "    base_filenames = list()\n",
    "    base_dir = 'K-' + str(k)\n",
    "    if not os.path.exists(base_dir):\n",
    "        os.makedirs(base_dir)\n",
    "\n",
    "    # Train base models\n",
    "    for i, base_clf_inp in enumerate(base_models):\n",
    "        # For each model, get the actual model and its parameters with which it will be hyper-tunned\n",
    "        base_clf = base_clf_inp[0]\n",
    "        base_params = base_clf_inp[1]\n",
    "        # Get 50% sampled data from D1 to train the base model\n",
    "        sample_D1 = D1.sample(frac= 0.5, replace= True)\n",
    "        base_filename = base_dir + '/M' + str(i+1) + '_' + type(base_clf).__name__ + '.sav'\n",
    "        train_model(base_clf, base_filename, sample_D1, base_params)\n",
    "        base_filenames.append(base_filename)\n",
    "\n",
    "    # Do base model predictions\n",
    "    X_train_D2 = D2.iloc[:, :-1]\n",
    "    y_train_D2 = D2.iloc[:,-1].astype('int64')\n",
    "    meta_df = predict_base_models(base_filenames, X_train_D2)\n",
    "    # train meta-model\n",
    "    meta_df['Y'] = y_train_D2.values\n",
    "    meta_clf = meta_model[0]\n",
    "    meta_params = meta_model[1]\n",
    "    meta_filename = base_dir + '/Meta' + type(meta_clf).__name__ + '.sav'\n",
    "    train_model(meta_clf, meta_filename, meta_df, meta_params)\n",
    "\n",
    "    # Test stacking model after training K models\n",
    "    print(\"Started prediction for X_test\")\n",
    "    X_test = test_data.iloc[:, :-1]\n",
    "    y_test = test_data.iloc[:, -1]\n",
    "    base_y_preds = predict_base_models(base_filenames, X_test)\n",
    "    saved_meta_clf = pickle.load(open(meta_filename, 'rb'))\n",
    "    y_pred_test = saved_meta_clf.predict(base_y_preds)\n",
    "    print('Log-loss: ', log_loss(y_test, y_pred_test, eps=1e-15))\n",
    "    print('Micro F1-score: ', f1_score(y_test, y_pred_test, average='micro'))\n",
    "    plot_confusion_matrix(y_test, y_pred_test)"
   ]
  },
  {
   "cell_type": "markdown",
   "metadata": {
    "id": "2hKElIO_n7yH"
   },
   "source": [
    "We can try different combination of K models and check their performance. Models to be used are logistic regression, svc, kernel svc, decision tree, random forest and xgbClassifier. We can try different k values. (k-1 Base models and one meta-model). Models can be repeated as we have only 6 models."
   ]
  },
  {
   "cell_type": "code",
   "execution_count": 15,
   "metadata": {
    "id": "OxNVYBNFBXyj"
   },
   "outputs": [],
   "source": [
    "def getAllModels():\n",
    "  \"\"\"This function returns all the models and their parameter values\"\"\"\n",
    "  def getLogisticRrgression():\n",
    "    # Model 1: Logistic Regression\n",
    "    lr_model = LogisticRegression(penalty='l2',class_weight='balanced', solver='liblinear', max_iter= 1000)\n",
    "    lr_params = {'C' : [10 ** x for x in range(-5, 4)]}\n",
    "    return (lr_model, lr_params)\n",
    "\n",
    "  def getSVC():\n",
    "    # Model 2: SVC\n",
    "    svc_model = SVC(class_weight= 'balanced')\n",
    "    svc_params = {'C' : [10 ** x for x in range(-5, 4)]}\n",
    "    return (svc_model, svc_params)\n",
    "\n",
    "  def getKSVC():\n",
    "    # model 3: Kernel SVC\n",
    "    k_svc_model = SVC(class_weight='balanced', kernel = 'rbf')\n",
    "    k_svc_params = {'C' : [10 ** x for x in range(-5, 4)], 'gamma' : [10 ** x for x in range(-3, 3)]}\n",
    "    return (k_svc_model, k_svc_params) \n",
    "\n",
    "  def getDecisionTree():\n",
    "    # Model 4: Decision Tree\n",
    "    dt_model = DecisionTreeClassifier()\n",
    "    dt_params = {'min_samples_split': [10, 100, 200, 500], 'max_depth': [5, 10, 50, 75]}\n",
    "    return (dt_model, dt_params) \n",
    "\n",
    "  def getRandomForest():\n",
    "    # Model 5: Random Forest\n",
    "    rf_model = RandomForestClassifier(class_weight='balanced')\n",
    "    rf_params = {'n_estimators' : [750,1000, 1200, 1500], 'max_depth': [5, 10, 50, 75]}\n",
    "    return (rf_model, rf_params)\n",
    "\n",
    "  def getXGBoost():\n",
    "    # model 6: XGBoost\n",
    "    xgbc_model = XGBClassifier(class_weight='balanced', nthread=-1, verbosity=0)\n",
    "    xgbc_params = parameters={'n_estimators':[750,1000, 1200, 1500],'max_depth':[3, 5, 7, 10]}\n",
    "    return (xgbc_model, xgbc_params)\n",
    "\n",
    "  return [getLogisticRrgression, getSVC, getKSVC, getDecisionTree, getRandomForest, getXGBoost]"
   ]
  },
  {
   "cell_type": "markdown",
   "metadata": {
    "id": "WD_L6CueBBxb"
   },
   "source": [
    "**For k=5, 10, 15, 20**"
   ]
  },
  {
   "cell_type": "code",
   "execution_count": 16,
   "metadata": {
    "colab": {
     "base_uri": "https://localhost:8080/",
     "height": 1000
    },
    "id": "fqfF3alpARaK",
    "outputId": "b38f39b9-cafd-46ab-bd99-5e66dcedc7e0"
   },
   "outputs": [
    {
     "name": "stdout",
     "output_type": "stream",
     "text": [
      "Started training 5 models\n",
      "Training model K-5/M1_DecisionTreeClassifier with Randomized search.\n",
      "Best params for model:  {'min_samples_split': 10, 'max_depth': 10}\n",
      "Saved model: K-5/M1_DecisionTreeClassifier.sav\n",
      "Training model K-5/M2_XGBClassifier with Randomized search.\n",
      "Best params for model:  {'n_estimators': 750, 'max_depth': 7}\n",
      "Saved model: K-5/M2_XGBClassifier.sav\n",
      "Training model K-5/M3_DecisionTreeClassifier with Randomized search.\n",
      "Best params for model:  {'min_samples_split': 10, 'max_depth': 5}\n",
      "Saved model: K-5/M3_DecisionTreeClassifier.sav\n",
      "Training model K-5/M4_DecisionTreeClassifier with Randomized search.\n",
      "Best params for model:  {'min_samples_split': 10, 'max_depth': 5}\n",
      "Saved model: K-5/M4_DecisionTreeClassifier.sav\n",
      "Y_preds df shape:  (30000, 4)\n",
      "Training model K-5/MetaRandomForestClassifier with Randomized search.\n",
      "Best params for model:  {'n_estimators': 1000, 'max_depth': 50}\n",
      "Saved model: K-5/MetaRandomForestClassifier.sav\n",
      "Started prediction for X_test\n",
      "Y_preds df shape:  (16000, 4)\n",
      "Log-loss:  0.3324364724236071\n",
      "Micro F1-score:  0.990375\n",
      "Number of misclassified points 0.96%\n",
      "Number of False Positives:  15\n",
      "Number of False Negatives:  139\n",
      "Total Cost (cost1+cost2):  69650\n"
     ]
    },
    {
     "data": {
      "image/png": "[encoded data removed]",
      "text/plain": [
       "<Figure size 1440x288 with 6 Axes>"
      ]
     },
     "metadata": {
      "needs_background": "light"
     },
     "output_type": "display_data"
    },
    {
     "name": "stdout",
     "output_type": "stream",
     "text": [
      "Started training 10 models\n",
      "Training model K-10/M1_LogisticRegression with Grid search.\n",
      "Best params for model:  {'C': 1000}\n",
      "Saved model: K-10/M1_LogisticRegression.sav\n",
      "Training model K-10/M2_DecisionTreeClassifier with Randomized search.\n",
      "Best params for model:  {'min_samples_split': 10, 'max_depth': 50}\n",
      "Saved model: K-10/M2_DecisionTreeClassifier.sav\n",
      "Training model K-10/M3_SVC with Grid search.\n",
      "Best params for model:  {'C': 1}\n",
      "Saved model: K-10/M3_SVC.sav\n",
      "Training model K-10/M4_RandomForestClassifier with Randomized search.\n",
      "Best params for model:  {'n_estimators': 1500, 'max_depth': 50}\n",
      "Saved model: K-10/M4_RandomForestClassifier.sav\n",
      "Training model K-10/M5_RandomForestClassifier with Randomized search.\n",
      "Best params for model:  {'n_estimators': 1200, 'max_depth': 50}\n",
      "Saved model: K-10/M5_RandomForestClassifier.sav\n",
      "Training model K-10/M6_SVC with Grid search.\n",
      "Best params for model:  {'C': 1}\n",
      "Saved model: K-10/M6_SVC.sav\n",
      "Training model K-10/M7_XGBClassifier with Randomized search.\n",
      "Best params for model:  {'n_estimators': 1000, 'max_depth': 5}\n",
      "Saved model: K-10/M7_XGBClassifier.sav\n",
      "Training model K-10/M8_XGBClassifier with Randomized search.\n",
      "Best params for model:  {'n_estimators': 750, 'max_depth': 5}\n",
      "Saved model: K-10/M8_XGBClassifier.sav\n",
      "Training model K-10/M9_SVC with Randomized search.\n",
      "Best params for model:  {'gamma': 0.01, 'C': 10}\n",
      "Saved model: K-10/M9_SVC.sav\n",
      "Y_preds df shape:  (30000, 9)\n",
      "Training model K-10/MetaLogisticRegression with Grid search.\n",
      "Best params for model:  {'C': 0.001}\n",
      "Saved model: K-10/MetaLogisticRegression.sav\n",
      "Started prediction for X_test\n",
      "Y_preds df shape:  (16000, 9)\n",
      "Log-loss:  0.3086913135263029\n",
      "Micro F1-score:  0.9910625\n",
      "Number of misclassified points 0.89%\n",
      "Number of False Positives:  20\n",
      "Number of False Negatives:  123\n",
      "Total Cost (cost1+cost2):  61700\n"
     ]
    },
    {
     "data": {
      "image/png": "[encoded data removed]",
      "text/plain": [
       "<Figure size 1440x288 with 6 Axes>"
      ]
     },
     "metadata": {
      "needs_background": "light"
     },
     "output_type": "display_data"
    },
    {
     "name": "stdout",
     "output_type": "stream",
     "text": [
      "Started training 15 models\n",
      "Training model K-15/M1_XGBClassifier with Randomized search.\n",
      "Best params for model:  {'n_estimators': 750, 'max_depth': 5}\n",
      "Saved model: K-15/M1_XGBClassifier.sav\n",
      "Training model K-15/M2_SVC with Grid search.\n",
      "Best params for model:  {'C': 100}\n",
      "Saved model: K-15/M2_SVC.sav\n",
      "Training model K-15/M3_SVC with Grid search.\n",
      "Best params for model:  {'C': 10}\n",
      "Saved model: K-15/M3_SVC.sav\n",
      "Training model K-15/M4_XGBClassifier with Randomized search.\n",
      "Best params for model:  {'n_estimators': 1000, 'max_depth': 3}\n",
      "Saved model: K-15/M4_XGBClassifier.sav\n",
      "Training model K-15/M5_RandomForestClassifier with Randomized search.\n",
      "Best params for model:  {'n_estimators': 1000, 'max_depth': 75}\n",
      "Saved model: K-15/M5_RandomForestClassifier.sav\n",
      "Training model K-15/M6_RandomForestClassifier with Randomized search.\n",
      "Best params for model:  {'n_estimators': 750, 'max_depth': 75}\n",
      "Saved model: K-15/M6_RandomForestClassifier.sav\n",
      "Training model K-15/M7_XGBClassifier with Randomized search.\n",
      "Best params for model:  {'n_estimators': 750, 'max_depth': 7}\n",
      "Saved model: K-15/M7_XGBClassifier.sav\n",
      "Training model K-15/M8_XGBClassifier with Randomized search.\n",
      "Best params for model:  {'n_estimators': 750, 'max_depth': 5}\n",
      "Saved model: K-15/M8_XGBClassifier.sav\n",
      "Training model K-15/M9_SVC with Grid search.\n",
      "Best params for model:  {'C': 10}\n",
      "Saved model: K-15/M9_SVC.sav\n",
      "Training model K-15/M10_LogisticRegression with Grid search.\n",
      "Best params for model:  {'C': 1000}\n",
      "Saved model: K-15/M10_LogisticRegression.sav\n",
      "Training model K-15/M11_XGBClassifier with Randomized search.\n",
      "Best params for model:  {'n_estimators': 1500, 'max_depth': 3}\n",
      "Saved model: K-15/M11_XGBClassifier.sav\n",
      "Training model K-15/M12_SVC with Grid search.\n",
      "Best params for model:  {'C': 10}\n",
      "Saved model: K-15/M12_SVC.sav\n",
      "Training model K-15/M13_SVC with Grid search.\n",
      "Best params for model:  {'C': 1}\n",
      "Saved model: K-15/M13_SVC.sav\n",
      "Training model K-15/M14_DecisionTreeClassifier with Randomized search.\n",
      "Best params for model:  {'min_samples_split': 10, 'max_depth': 5}\n",
      "Saved model: K-15/M14_DecisionTreeClassifier.sav\n",
      "Y_preds df shape:  (30000, 14)\n",
      "Training model K-15/MetaLogisticRegression with Grid search.\n",
      "Best params for model:  {'C': 0.001}\n",
      "Saved model: K-15/MetaLogisticRegression.sav\n",
      "Started prediction for X_test\n",
      "Y_preds df shape:  (16000, 14)\n",
      "Log-loss:  0.29789774600353575\n",
      "Micro F1-score:  0.991375\n",
      "Number of misclassified points 0.86%\n",
      "Number of False Positives:  16\n",
      "Number of False Negatives:  122\n",
      "Total Cost (cost1+cost2):  61160\n"
     ]
    },
    {
     "data": {
      "image/png": "[encoded data removed]",
      "text/plain": [
       "<Figure size 1440x288 with 6 Axes>"
      ]
     },
     "metadata": {
      "needs_background": "light"
     },
     "output_type": "display_data"
    },
    {
     "name": "stdout",
     "output_type": "stream",
     "text": [
      "Started training 20 models\n",
      "Training model K-20/M1_LogisticRegression with Grid search.\n",
      "Best params for model:  {'C': 100}\n",
      "Saved model: K-20/M1_LogisticRegression.sav\n",
      "Training model K-20/M2_LogisticRegression with Grid search.\n",
      "Best params for model:  {'C': 1000}\n",
      "Saved model: K-20/M2_LogisticRegression.sav\n",
      "Training model K-20/M3_DecisionTreeClassifier with Randomized search.\n",
      "Best params for model:  {'min_samples_split': 10, 'max_depth': 10}\n",
      "Saved model: K-20/M3_DecisionTreeClassifier.sav\n",
      "Training model K-20/M4_XGBClassifier with Randomized search.\n",
      "Best params for model:  {'n_estimators': 1000, 'max_depth': 7}\n",
      "Saved model: K-20/M4_XGBClassifier.sav\n",
      "Training model K-20/M5_DecisionTreeClassifier with Randomized search.\n",
      "Best params for model:  {'min_samples_split': 10, 'max_depth': 50}\n",
      "Saved model: K-20/M5_DecisionTreeClassifier.sav\n",
      "Training model K-20/M6_DecisionTreeClassifier with Randomized search.\n",
      "Best params for model:  {'min_samples_split': 100, 'max_depth': 75}\n",
      "Saved model: K-20/M6_DecisionTreeClassifier.sav\n",
      "Training model K-20/M7_SVC with Randomized search.\n",
      "Best params for model:  {'gamma': 0.001, 'C': 100}\n",
      "Saved model: K-20/M7_SVC.sav\n",
      "Training model K-20/M8_RandomForestClassifier with Randomized search.\n",
      "Best params for model:  {'n_estimators': 750, 'max_depth': 75}\n",
      "Saved model: K-20/M8_RandomForestClassifier.sav\n",
      "Training model K-20/M9_RandomForestClassifier with Randomized search.\n",
      "Best params for model:  {'n_estimators': 1200, 'max_depth': 50}\n",
      "Saved model: K-20/M9_RandomForestClassifier.sav\n",
      "Training model K-20/M10_RandomForestClassifier with Randomized search.\n",
      "Best params for model:  {'n_estimators': 1000, 'max_depth': 75}\n",
      "Saved model: K-20/M10_RandomForestClassifier.sav\n",
      "Training model K-20/M11_RandomForestClassifier with Randomized search.\n",
      "Best params for model:  {'n_estimators': 1500, 'max_depth': 75}\n",
      "Saved model: K-20/M11_RandomForestClassifier.sav\n",
      "Training model K-20/M12_SVC with Grid search.\n",
      "Best params for model:  {'C': 1000}\n",
      "Saved model: K-20/M12_SVC.sav\n",
      "Training model K-20/M13_XGBClassifier with Randomized search.\n",
      "Best params for model:  {'n_estimators': 1000, 'max_depth': 10}\n",
      "Saved model: K-20/M13_XGBClassifier.sav\n",
      "Training model K-20/M14_SVC with Randomized search.\n",
      "Best params for model:  {'gamma': 0.01, 'C': 1}\n",
      "Saved model: K-20/M14_SVC.sav\n",
      "Training model K-20/M15_LogisticRegression with Grid search.\n",
      "Best params for model:  {'C': 1000}\n",
      "Saved model: K-20/M15_LogisticRegression.sav\n",
      "Training model K-20/M16_XGBClassifier with Randomized search.\n",
      "Best params for model:  {'n_estimators': 1000, 'max_depth': 5}\n",
      "Saved model: K-20/M16_XGBClassifier.sav\n",
      "Training model K-20/M17_SVC with Grid search.\n",
      "Best params for model:  {'C': 10}\n",
      "Saved model: K-20/M17_SVC.sav\n",
      "Training model K-20/M18_LogisticRegression with Grid search.\n",
      "Best params for model:  {'C': 100}\n",
      "Saved model: K-20/M18_LogisticRegression.sav\n",
      "Training model K-20/M19_DecisionTreeClassifier with Randomized search.\n",
      "Best params for model:  {'min_samples_split': 10, 'max_depth': 10}\n",
      "Saved model: K-20/M19_DecisionTreeClassifier.sav\n",
      "Y_preds df shape:  (30000, 19)\n",
      "Training model K-20/MetaLogisticRegression with Grid search.\n",
      "Best params for model:  {'C': 0.001}\n",
      "Saved model: K-20/MetaLogisticRegression.sav\n",
      "Started prediction for X_test\n",
      "Y_preds df shape:  (16000, 19)\n",
      "Log-loss:  0.30653348957389054\n",
      "Micro F1-score:  0.991125\n",
      "Number of misclassified points 0.89%\n",
      "Number of False Positives:  37\n",
      "Number of False Negatives:  105\n",
      "Total Cost (cost1+cost2):  52870\n"
     ]
    },
    {
     "data": {
      "image/png": "[encoded data removed]",
      "text/plain": [
       "<Figure size 1440x288 with 6 Axes>"
      ]
     },
     "metadata": {
      "needs_background": "light"
     },
     "output_type": "display_data"
    }
   ],
   "source": [
    "for k in range(5,21,5):\n",
    "    print(\"Started training {} models\".format(k))\n",
    "    classifiers = getAllModels()\n",
    "    no_clfs = len(classifiers)\n",
    "    k_models = [classifiers[i]() for i in np.random.randint(low = 0, high = no_clfs, size = k)]\n",
    "    trainStackingModel(k_models, k, D1, D2, test_data)"
   ]
  },
  {
   "cell_type": "markdown",
   "metadata": {
    "id": "7YXo0Ya29FTM"
   },
   "source": [
    "Stacking classifier with 20 base models (adding meta model also), gave the best result as compared to the same with less number of base models.\n",
    "\n",
    "But with increase in k, the cost doesnt get reduced. It simply based on the type of base models used mostly. Now after stacking also, the logistic regression gave the best result alone if compared to other models and stacking models.\n",
    "\n",
    "If we can use feasible number of base models which gave better results (logistic regression, random forest and xgbclassifier) while used individually may improve the performance of stacking model. "
   ]
  },
  {
   "cell_type": "code",
   "execution_count": 17,
   "metadata": {
    "id": "Ia4i85Jk9FTM",
    "outputId": "266f0062-c8dc-4e46-8657-6de4d42fe614",
    "scrolled": true
   },
   "outputs": [
    {
     "name": "stdout",
     "output_type": "stream",
     "text": [
      "Training model K-top_base/M1_LogisticRegression with Grid search.\n",
      "Best params for model:  {'C': 1000}\n",
      "Saved model: K-top_base/M1_LogisticRegression.sav\n",
      "Training model K-top_base/M2_RandomForestClassifier with Randomized search.\n",
      "Best params for model:  {'n_estimators': 1500, 'max_depth': 50}\n",
      "Saved model: K-top_base/M2_RandomForestClassifier.sav\n",
      "Training model K-top_base/M3_XGBClassifier with Randomized search.\n",
      "Best params for model:  {'n_estimators': 750, 'max_depth': 7}\n",
      "Saved model: K-top_base/M3_XGBClassifier.sav\n",
      "Y_preds df shape:  (30000, 3)\n",
      "Training model K-top_base/MetaDecisionTreeClassifier with Randomized search.\n",
      "Best params for model:  {'min_samples_split': 500, 'max_depth': 5}\n",
      "Saved model: K-top_base/MetaDecisionTreeClassifier.sav\n",
      "Started prediction for X_test\n",
      "Y_preds df shape:  (16000, 3)\n",
      "Log-loss:  0.31948608044521537\n",
      "Micro F1-score:  0.99075\n",
      "Number of misclassified points 0.92%\n",
      "Number of False Positives:  48\n",
      "Number of False Negatives:  100\n",
      "Total Cost (cost1+cost2):  50480\n"
     ]
    },
    {
     "data": {
      "image/png": "[encoded data removed]",
      "text/plain": [
       "<Figure size 1440x288 with 6 Axes>"
      ]
     },
     "metadata": {
      "needs_background": "light"
     },
     "output_type": "display_data"
    }
   ],
   "source": [
    "classifiers = getAllModels()\n",
    "k_models = list()\n",
    "# use logistic regression, random forest and xgboot as base models and decision tree as meta model\n",
    "k_models.append(classifiers[0]())\n",
    "k_models.append(classifiers[-2]())\n",
    "k_models.append(classifiers[-1]())\n",
    "k_models.append(classifiers[-3]())\n",
    "\n",
    "trainStackingModel(k_models, 'top_base', D1, D2, test_data)"
   ]
  },
  {
   "cell_type": "markdown",
   "metadata": {
    "id": "NUSbIa-B9FTM"
   },
   "source": [
    "So we can consider Logistic regression with whole training dataset with proper hyper-parameter tunning (C: 10) as our best model."
   ]
  }
 ],
 "metadata": {
  "accelerator": "GPU",
  "colab": {
   "collapsed_sections": [],
   "machine_shape": "hm",
   "name": "APS Failure prediction.ipynb",
   "provenance": [],
   "toc_visible": true
  },
  "kernelspec": {
   "display_name": "Python 3",
   "language": "python",
   "name": "python3"
  },
  "language_info": {
   "codemirror_mode": {
    "name": "ipython",
    "version": 3
   },
   "file_extension": ".py",
   "mimetype": "text/x-python",
   "name": "python",
   "nbconvert_exporter": "python",
   "pygments_lexer": "ipython3",
   "version": "3.6.3rc1"
  }
 },
 "nbformat": 4,
 "nbformat_minor": 1
}
